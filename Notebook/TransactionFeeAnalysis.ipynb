{
 "cells": [
  {
   "cell_type": "markdown",
   "id": "280bbf56",
   "metadata": {
    "papermill": {
     "duration": 0.010951,
     "end_time": "2023-03-10T13:07:56.174733",
     "exception": false,
     "start_time": "2023-03-10T13:07:56.163782",
     "status": "completed"
    },
    "tags": []
   },
   "source": [
    "\n",
    "\n",
    "### This is a kaggle notebook that will use data analytics tools and concepts to anaylse the cryptocurrency datasets. The first dataset consists of historical bitcoin prices from 2010 to 2021 as a csv file taken from the [top-50 historical prices dataset][1]. The [second dataset][2] has information on the transaction fees and minor reveune from 2009 to 2022\n",
    "\n",
    "### Both datasets were resampled and shortened to have a sample range between 2018 and 2022. \n",
    "\n",
    "[1]: https://www.kaggle.com/datasets/odins0n/top-50-cryptocurrency-historical-prices\n",
    "[2]: https://www.kaggle.com/datasets/muhammadkhoirulwiro/blockchain-transaction-and-miner-revenue"
   ]
  },
  {
   "cell_type": "markdown",
   "id": "3cb3d1ac",
   "metadata": {
    "papermill": {
     "duration": 0.011244,
     "end_time": "2023-03-10T13:07:56.195745",
     "exception": false,
     "start_time": "2023-03-10T13:07:56.184501",
     "status": "completed"
    },
    "tags": []
   },
   "source": [
    "![Bitcoin logo][1]\n",
    "\n",
    "[1]: https://upload.wikimedia.org/wikipedia/commons/thumb/4/46/Bitcoin.svg/480px-Bitcoin.svg.png"
   ]
  },
  {
   "cell_type": "code",
   "execution_count": 1,
   "id": "0786694a",
   "metadata": {
    "_cell_guid": "b1076dfc-b9ad-4769-8c92-a6c4dae69d19",
    "_uuid": "8f2839f25d086af736a60e9eeb907d3b93b6e0e5",
    "execution": {
     "iopub.execute_input": "2023-03-10T13:07:56.217740Z",
     "iopub.status.busy": "2023-03-10T13:07:56.216494Z",
     "iopub.status.idle": "2023-03-10T13:07:56.241867Z",
     "shell.execute_reply": "2023-03-10T13:07:56.240525Z"
    },
    "papermill": {
     "duration": 0.038511,
     "end_time": "2023-03-10T13:07:56.244048",
     "exception": false,
     "start_time": "2023-03-10T13:07:56.205537",
     "status": "completed"
    },
    "tags": []
   },
   "outputs": [
    {
     "name": "stdout",
     "output_type": "stream",
     "text": [
      "/kaggle/input/bitcoinhistoricalprices/Bitcoin.csv\n",
      "/kaggle/input/transactionfeesandminerrevenue20182022/Transactions Fees and Miner Revenue(2018-2022).csv\n"
     ]
    }
   ],
   "source": [
    "# This Python 3 environment comes with many helpful analytics libraries installed\n",
    "# It is defined by the kaggle/python Docker image: https://github.com/kaggle/docker-python\n",
    "# For example, here's several helpful packages to load\n",
    "\n",
    "import numpy as np # linear algebra\n",
    "import pandas as pd # data processing, CSV file I/O (e.g. pd.read_csv)\n",
    "\n",
    "# Input data files are available in the read-only \"../input/\" directory\n",
    "# For example, running this (by clicking run or pressing Shift+Enter) will list all files under the input directory\n",
    "\n",
    "import os\n",
    "for dirname, _, filenames in os.walk('/kaggle/input'):\n",
    "    for filename in filenames:\n",
    "        print(os.path.join(dirname, filename))\n",
    "\n",
    "# You can write up to 20GB to the current directory (/kaggle/working/) that gets preserved as output when you create a version using \"Save & Run All\" \n",
    "# You can also write temporary files to /kaggle/temp/, but they won't be saved outside of the current session"
   ]
  },
  {
   "cell_type": "markdown",
   "id": "f3031e1c",
   "metadata": {
    "papermill": {
     "duration": 0.009511,
     "end_time": "2023-03-10T13:07:56.263403",
     "exception": false,
     "start_time": "2023-03-10T13:07:56.253892",
     "status": "completed"
    },
    "tags": []
   },
   "source": [
    "Import pyplot from **matplotlib** library to help with plotting graphs.\n",
    "\n",
    "Using **pandas as pd**, both csv files are read and placed into variables as dataframes: bitcoindf and TFMR (**T**ransfer**F**ees&**M**iner**R**evenue)\n",
    "\n",
    "One of the columns from bitcoindf 'SNo' is removed from the dataframe to make sure there is only one index column instead of two. \n"
   ]
  },
  {
   "cell_type": "code",
   "execution_count": 2,
   "id": "93dc6f1c",
   "metadata": {
    "execution": {
     "iopub.execute_input": "2023-03-10T13:07:56.284143Z",
     "iopub.status.busy": "2023-03-10T13:07:56.283860Z",
     "iopub.status.idle": "2023-03-10T13:07:56.322769Z",
     "shell.execute_reply": "2023-03-10T13:07:56.321887Z"
    },
    "papermill": {
     "duration": 0.051693,
     "end_time": "2023-03-10T13:07:56.324972",
     "exception": false,
     "start_time": "2023-03-10T13:07:56.273279",
     "status": "completed"
    },
    "tags": []
   },
   "outputs": [],
   "source": [
    "import matplotlib.pyplot as plt\n",
    "\n",
    "bitcoindf = pd.read_csv('../input/bitcoinhistoricalprices/Bitcoin.csv')\n",
    "TFMR = pd.read_csv('../input/transactionfeesandminerrevenue20182022/Transactions Fees and Miner Revenue(2018-2022).csv')\n",
    "\n",
    "\n",
    "bitcoindf = bitcoindf.drop(labels=\"SNo\", axis=1)\n",
    "bitcoindf.head()\n",
    "TFMR = TFMR.rename(columns = {'Number of transactions' :  'Transactions', \n",
    "                       'Total value in USD of coinbase block rewards and transaction fees paid to miners.' : 'Block Rewards + Fees paid to miners (USD)',\n",
    "                       'The total BTC value of all transaction fees paid to miners.' : 'Fees paid to miners (BTC)', \n",
    "                       'The total USD value of all transaction fees paid to miners.' : 'Fees paid to miners (USD)', \n",
    "                       'Average transaction fees in USD per transaction.' : 'Avg Fees per transaction (USD)',  \n",
    "                       'miners revenue divided by the number of transactions (usd)' : 'Revenue/Transactions (USD)'})"
   ]
  },
  {
   "cell_type": "markdown",
   "id": "39fd9fec",
   "metadata": {
    "papermill": {
     "duration": 0.009437,
     "end_time": "2023-03-10T13:07:56.344513",
     "exception": false,
     "start_time": "2023-03-10T13:07:56.335076",
     "status": "completed"
    },
    "tags": []
   },
   "source": [
    "### Bitcoin dataframe and 'Transactionfees&MinersRevenue' dataframe are merged based on the same recorded dates.  \n",
    "### Columns are renamed from the 'Bitcoin' dataframe to make it clear that it is the Bitcoin prices/opens etc that are being looked at"
   ]
  },
  {
   "cell_type": "code",
   "execution_count": 3,
   "id": "68d04647",
   "metadata": {
    "execution": {
     "iopub.execute_input": "2023-03-10T13:07:56.365447Z",
     "iopub.status.busy": "2023-03-10T13:07:56.365129Z",
     "iopub.status.idle": "2023-03-10T13:07:56.385497Z",
     "shell.execute_reply": "2023-03-10T13:07:56.384506Z"
    },
    "papermill": {
     "duration": 0.033524,
     "end_time": "2023-03-10T13:07:56.387779",
     "exception": false,
     "start_time": "2023-03-10T13:07:56.354255",
     "status": "completed"
    },
    "tags": []
   },
   "outputs": [
    {
     "data": {
      "text/html": [
       "<div>\n",
       "<style scoped>\n",
       "    .dataframe tbody tr th:only-of-type {\n",
       "        vertical-align: middle;\n",
       "    }\n",
       "\n",
       "    .dataframe tbody tr th {\n",
       "        vertical-align: top;\n",
       "    }\n",
       "\n",
       "    .dataframe thead th {\n",
       "        text-align: right;\n",
       "    }\n",
       "</style>\n",
       "<table border=\"1\" class=\"dataframe\">\n",
       "  <thead>\n",
       "    <tr style=\"text-align: right;\">\n",
       "      <th></th>\n",
       "      <th>Date</th>\n",
       "      <th>month</th>\n",
       "      <th>day</th>\n",
       "      <th>year</th>\n",
       "      <th>Transactions</th>\n",
       "      <th>Block Rewards + Fees paid to miners (USD)</th>\n",
       "      <th>Fees paid to miners (BTC)</th>\n",
       "      <th>Fees paid to miners (USD)</th>\n",
       "      <th>Avg Fees per transaction (USD)</th>\n",
       "      <th>Revenue/Transactions (USD)</th>\n",
       "    </tr>\n",
       "  </thead>\n",
       "  <tbody>\n",
       "    <tr>\n",
       "      <th>0</th>\n",
       "      <td>03/01/2018</td>\n",
       "      <td>1</td>\n",
       "      <td>3</td>\n",
       "      <td>2018</td>\n",
       "      <td>288429056</td>\n",
       "      <td>41037010.87</td>\n",
       "      <td>749.685473</td>\n",
       "      <td>1.132484e+07</td>\n",
       "      <td>28.276123</td>\n",
       "      <td>102.462144</td>\n",
       "    </tr>\n",
       "    <tr>\n",
       "      <th>1</th>\n",
       "      <td>06/01/2018</td>\n",
       "      <td>1</td>\n",
       "      <td>6</td>\n",
       "      <td>2018</td>\n",
       "      <td>289592587</td>\n",
       "      <td>46563789.98</td>\n",
       "      <td>694.477906</td>\n",
       "      <td>1.157201e+07</td>\n",
       "      <td>32.247758</td>\n",
       "      <td>129.759452</td>\n",
       "    </tr>\n",
       "    <tr>\n",
       "      <th>2</th>\n",
       "      <td>09/01/2018</td>\n",
       "      <td>1</td>\n",
       "      <td>9</td>\n",
       "      <td>2018</td>\n",
       "      <td>290665709</td>\n",
       "      <td>43234479.12</td>\n",
       "      <td>752.418203</td>\n",
       "      <td>1.161368e+07</td>\n",
       "      <td>30.999893</td>\n",
       "      <td>115.403963</td>\n",
       "    </tr>\n",
       "    <tr>\n",
       "      <th>3</th>\n",
       "      <td>12/01/2018</td>\n",
       "      <td>1</td>\n",
       "      <td>12</td>\n",
       "      <td>2018</td>\n",
       "      <td>291709927</td>\n",
       "      <td>38771602.28</td>\n",
       "      <td>617.635794</td>\n",
       "      <td>8.444052e+06</td>\n",
       "      <td>28.138306</td>\n",
       "      <td>129.199484</td>\n",
       "    </tr>\n",
       "    <tr>\n",
       "      <th>4</th>\n",
       "      <td>15/01/2018</td>\n",
       "      <td>1</td>\n",
       "      <td>15</td>\n",
       "      <td>2018</td>\n",
       "      <td>292512025</td>\n",
       "      <td>33038806.92</td>\n",
       "      <td>510.117618</td>\n",
       "      <td>7.067806e+06</td>\n",
       "      <td>25.830452</td>\n",
       "      <td>120.745723</td>\n",
       "    </tr>\n",
       "  </tbody>\n",
       "</table>\n",
       "</div>"
      ],
      "text/plain": [
       "         Date  month  day  year  Transactions  \\\n",
       "0  03/01/2018      1    3  2018     288429056   \n",
       "1  06/01/2018      1    6  2018     289592587   \n",
       "2  09/01/2018      1    9  2018     290665709   \n",
       "3  12/01/2018      1   12  2018     291709927   \n",
       "4  15/01/2018      1   15  2018     292512025   \n",
       "\n",
       "   Block Rewards + Fees paid to miners (USD)  Fees paid to miners (BTC)  \\\n",
       "0                                41037010.87                 749.685473   \n",
       "1                                46563789.98                 694.477906   \n",
       "2                                43234479.12                 752.418203   \n",
       "3                                38771602.28                 617.635794   \n",
       "4                                33038806.92                 510.117618   \n",
       "\n",
       "   Fees paid to miners (USD)  Avg Fees per transaction (USD)  \\\n",
       "0               1.132484e+07                       28.276123   \n",
       "1               1.157201e+07                       32.247758   \n",
       "2               1.161368e+07                       30.999893   \n",
       "3               8.444052e+06                       28.138306   \n",
       "4               7.067806e+06                       25.830452   \n",
       "\n",
       "   Revenue/Transactions (USD)  \n",
       "0                  102.462144  \n",
       "1                  129.759452  \n",
       "2                  115.403963  \n",
       "3                  129.199484  \n",
       "4                  120.745723  "
      ]
     },
     "execution_count": 3,
     "metadata": {},
     "output_type": "execute_result"
    }
   ],
   "source": [
    "TFMR.head()"
   ]
  },
  {
   "cell_type": "code",
   "execution_count": 4,
   "id": "05bb78a6",
   "metadata": {
    "execution": {
     "iopub.execute_input": "2023-03-10T13:07:56.410385Z",
     "iopub.status.busy": "2023-03-10T13:07:56.409016Z",
     "iopub.status.idle": "2023-03-10T13:07:56.422045Z",
     "shell.execute_reply": "2023-03-10T13:07:56.420986Z"
    },
    "papermill": {
     "duration": 0.026066,
     "end_time": "2023-03-10T13:07:56.423962",
     "exception": false,
     "start_time": "2023-03-10T13:07:56.397896",
     "status": "completed"
    },
    "tags": []
   },
   "outputs": [
    {
     "data": {
      "text/html": [
       "<div>\n",
       "<style scoped>\n",
       "    .dataframe tbody tr th:only-of-type {\n",
       "        vertical-align: middle;\n",
       "    }\n",
       "\n",
       "    .dataframe tbody tr th {\n",
       "        vertical-align: top;\n",
       "    }\n",
       "\n",
       "    .dataframe thead th {\n",
       "        text-align: right;\n",
       "    }\n",
       "</style>\n",
       "<table border=\"1\" class=\"dataframe\">\n",
       "  <thead>\n",
       "    <tr style=\"text-align: right;\">\n",
       "      <th></th>\n",
       "      <th>Date</th>\n",
       "      <th>Price</th>\n",
       "      <th>Open</th>\n",
       "      <th>High</th>\n",
       "      <th>Low</th>\n",
       "      <th>Vol.</th>\n",
       "      <th>Change %</th>\n",
       "    </tr>\n",
       "  </thead>\n",
       "  <tbody>\n",
       "    <tr>\n",
       "      <th>0</th>\n",
       "      <td>18/07/2010</td>\n",
       "      <td>0.1</td>\n",
       "      <td>0.0</td>\n",
       "      <td>0.1</td>\n",
       "      <td>0.1</td>\n",
       "      <td>80</td>\n",
       "      <td>0.0</td>\n",
       "    </tr>\n",
       "    <tr>\n",
       "      <th>1</th>\n",
       "      <td>19/07/2010</td>\n",
       "      <td>0.1</td>\n",
       "      <td>0.1</td>\n",
       "      <td>0.1</td>\n",
       "      <td>0.1</td>\n",
       "      <td>570</td>\n",
       "      <td>0.0</td>\n",
       "    </tr>\n",
       "    <tr>\n",
       "      <th>2</th>\n",
       "      <td>20/07/2010</td>\n",
       "      <td>0.1</td>\n",
       "      <td>0.1</td>\n",
       "      <td>0.1</td>\n",
       "      <td>0.1</td>\n",
       "      <td>260</td>\n",
       "      <td>0.0</td>\n",
       "    </tr>\n",
       "    <tr>\n",
       "      <th>3</th>\n",
       "      <td>21/07/2010</td>\n",
       "      <td>0.1</td>\n",
       "      <td>0.1</td>\n",
       "      <td>0.1</td>\n",
       "      <td>0.1</td>\n",
       "      <td>580</td>\n",
       "      <td>0.0</td>\n",
       "    </tr>\n",
       "    <tr>\n",
       "      <th>4</th>\n",
       "      <td>22/07/2010</td>\n",
       "      <td>0.1</td>\n",
       "      <td>0.1</td>\n",
       "      <td>0.1</td>\n",
       "      <td>0.1</td>\n",
       "      <td>2160</td>\n",
       "      <td>0.0</td>\n",
       "    </tr>\n",
       "  </tbody>\n",
       "</table>\n",
       "</div>"
      ],
      "text/plain": [
       "         Date  Price  Open  High  Low  Vol.  Change %\n",
       "0  18/07/2010    0.1   0.0   0.1  0.1    80       0.0\n",
       "1  19/07/2010    0.1   0.1   0.1  0.1   570       0.0\n",
       "2  20/07/2010    0.1   0.1   0.1  0.1   260       0.0\n",
       "3  21/07/2010    0.1   0.1   0.1  0.1   580       0.0\n",
       "4  22/07/2010    0.1   0.1   0.1  0.1  2160       0.0"
      ]
     },
     "execution_count": 4,
     "metadata": {},
     "output_type": "execute_result"
    }
   ],
   "source": [
    "bitcoindf.head()"
   ]
  },
  {
   "cell_type": "code",
   "execution_count": 5,
   "id": "f3b7f30a",
   "metadata": {
    "execution": {
     "iopub.execute_input": "2023-03-10T13:07:56.448436Z",
     "iopub.status.busy": "2023-03-10T13:07:56.446944Z",
     "iopub.status.idle": "2023-03-10T13:07:56.467250Z",
     "shell.execute_reply": "2023-03-10T13:07:56.466228Z"
    },
    "papermill": {
     "duration": 0.034153,
     "end_time": "2023-03-10T13:07:56.469564",
     "exception": false,
     "start_time": "2023-03-10T13:07:56.435411",
     "status": "completed"
    },
    "tags": []
   },
   "outputs": [],
   "source": [
    "merged_df = TFMR.merge(bitcoindf, how=\"inner\", on=['Date'])\n",
    "merged_df = merged_df.rename(columns = {'Price' : 'Bitcoin Price', 'Open' : 'Bitcoin Open', 'High': 'Bitcoin High', 'Low' : 'Bitcoin Low'})\n",
    "merged_df = merged_df.rename(columns = {'Number of transactions' :  'Transactions', \n",
    "                       'Total value in USD of coinbase block rewards and transaction fees paid to miners.' : 'Block Rewards + Fees paid to miners (USD)',\n",
    "                       'The total BTC value of all transaction fees paid to miners.' : 'Fees paid to miners (BTC)', \n",
    "                       'The total USD value of all transaction fees paid to miners.' : 'Fees paid to miners (USD)', \n",
    "                       'Average transaction fees in USD per transaction.' : 'Avg Fees per transaction (USD)',  \n",
    "                       'miners revenue divided by the number of transactions (usd)' : 'Revenue/Transactions (USD)'} )"
   ]
  },
  {
   "cell_type": "code",
   "execution_count": 6,
   "id": "17380896",
   "metadata": {
    "execution": {
     "iopub.execute_input": "2023-03-10T13:07:56.494024Z",
     "iopub.status.busy": "2023-03-10T13:07:56.493354Z",
     "iopub.status.idle": "2023-03-10T13:07:56.513869Z",
     "shell.execute_reply": "2023-03-10T13:07:56.512581Z"
    },
    "papermill": {
     "duration": 0.034995,
     "end_time": "2023-03-10T13:07:56.516148",
     "exception": false,
     "start_time": "2023-03-10T13:07:56.481153",
     "status": "completed"
    },
    "tags": []
   },
   "outputs": [
    {
     "data": {
      "text/html": [
       "<div>\n",
       "<style scoped>\n",
       "    .dataframe tbody tr th:only-of-type {\n",
       "        vertical-align: middle;\n",
       "    }\n",
       "\n",
       "    .dataframe tbody tr th {\n",
       "        vertical-align: top;\n",
       "    }\n",
       "\n",
       "    .dataframe thead th {\n",
       "        text-align: right;\n",
       "    }\n",
       "</style>\n",
       "<table border=\"1\" class=\"dataframe\">\n",
       "  <thead>\n",
       "    <tr style=\"text-align: right;\">\n",
       "      <th></th>\n",
       "      <th>Date</th>\n",
       "      <th>month</th>\n",
       "      <th>day</th>\n",
       "      <th>year</th>\n",
       "      <th>Transactions</th>\n",
       "      <th>Block Rewards + Fees paid to miners (USD)</th>\n",
       "      <th>Fees paid to miners (BTC)</th>\n",
       "      <th>Fees paid to miners (USD)</th>\n",
       "      <th>Avg Fees per transaction (USD)</th>\n",
       "      <th>Revenue/Transactions (USD)</th>\n",
       "      <th>Bitcoin Price</th>\n",
       "      <th>Bitcoin Open</th>\n",
       "      <th>Bitcoin High</th>\n",
       "      <th>Bitcoin Low</th>\n",
       "      <th>Vol.</th>\n",
       "      <th>Change %</th>\n",
       "    </tr>\n",
       "  </thead>\n",
       "  <tbody>\n",
       "    <tr>\n",
       "      <th>0</th>\n",
       "      <td>03/01/2018</td>\n",
       "      <td>1</td>\n",
       "      <td>3</td>\n",
       "      <td>2018</td>\n",
       "      <td>288429056</td>\n",
       "      <td>41037010.87</td>\n",
       "      <td>749.685473</td>\n",
       "      <td>1.132484e+07</td>\n",
       "      <td>28.276123</td>\n",
       "      <td>102.462144</td>\n",
       "      <td>15156.6</td>\n",
       "      <td>14754.1</td>\n",
       "      <td>15435.0</td>\n",
       "      <td>14579.7</td>\n",
       "      <td>106540</td>\n",
       "      <td>2.73</td>\n",
       "    </tr>\n",
       "    <tr>\n",
       "      <th>1</th>\n",
       "      <td>06/01/2018</td>\n",
       "      <td>1</td>\n",
       "      <td>6</td>\n",
       "      <td>2018</td>\n",
       "      <td>289592587</td>\n",
       "      <td>46563789.98</td>\n",
       "      <td>694.477906</td>\n",
       "      <td>1.157201e+07</td>\n",
       "      <td>32.247758</td>\n",
       "      <td>129.759452</td>\n",
       "      <td>17172.3</td>\n",
       "      <td>16954.8</td>\n",
       "      <td>17252.8</td>\n",
       "      <td>16286.6</td>\n",
       "      <td>83930</td>\n",
       "      <td>1.28</td>\n",
       "    </tr>\n",
       "    <tr>\n",
       "      <th>2</th>\n",
       "      <td>09/01/2018</td>\n",
       "      <td>1</td>\n",
       "      <td>9</td>\n",
       "      <td>2018</td>\n",
       "      <td>290665709</td>\n",
       "      <td>43234479.12</td>\n",
       "      <td>752.418203</td>\n",
       "      <td>1.161368e+07</td>\n",
       "      <td>30.999893</td>\n",
       "      <td>115.403963</td>\n",
       "      <td>14778.5</td>\n",
       "      <td>14976.2</td>\n",
       "      <td>15324.6</td>\n",
       "      <td>14613.4</td>\n",
       "      <td>71400</td>\n",
       "      <td>-1.32</td>\n",
       "    </tr>\n",
       "    <tr>\n",
       "      <th>3</th>\n",
       "      <td>12/01/2018</td>\n",
       "      <td>1</td>\n",
       "      <td>12</td>\n",
       "      <td>2018</td>\n",
       "      <td>291709927</td>\n",
       "      <td>38771602.28</td>\n",
       "      <td>617.635794</td>\n",
       "      <td>8.444052e+06</td>\n",
       "      <td>28.138306</td>\n",
       "      <td>129.199484</td>\n",
       "      <td>13886.7</td>\n",
       "      <td>13529.2</td>\n",
       "      <td>14176.4</td>\n",
       "      <td>13410.0</td>\n",
       "      <td>82370</td>\n",
       "      <td>2.60</td>\n",
       "    </tr>\n",
       "    <tr>\n",
       "      <th>4</th>\n",
       "      <td>15/01/2018</td>\n",
       "      <td>1</td>\n",
       "      <td>15</td>\n",
       "      <td>2018</td>\n",
       "      <td>292512025</td>\n",
       "      <td>33038806.92</td>\n",
       "      <td>510.117618</td>\n",
       "      <td>7.067806e+06</td>\n",
       "      <td>25.830452</td>\n",
       "      <td>120.745723</td>\n",
       "      <td>13697.5</td>\n",
       "      <td>13695.5</td>\n",
       "      <td>14396.6</td>\n",
       "      <td>13475.4</td>\n",
       "      <td>73270</td>\n",
       "      <td>0.02</td>\n",
       "    </tr>\n",
       "  </tbody>\n",
       "</table>\n",
       "</div>"
      ],
      "text/plain": [
       "         Date  month  day  year  Transactions  \\\n",
       "0  03/01/2018      1    3  2018     288429056   \n",
       "1  06/01/2018      1    6  2018     289592587   \n",
       "2  09/01/2018      1    9  2018     290665709   \n",
       "3  12/01/2018      1   12  2018     291709927   \n",
       "4  15/01/2018      1   15  2018     292512025   \n",
       "\n",
       "   Block Rewards + Fees paid to miners (USD)  Fees paid to miners (BTC)  \\\n",
       "0                                41037010.87                 749.685473   \n",
       "1                                46563789.98                 694.477906   \n",
       "2                                43234479.12                 752.418203   \n",
       "3                                38771602.28                 617.635794   \n",
       "4                                33038806.92                 510.117618   \n",
       "\n",
       "   Fees paid to miners (USD)  Avg Fees per transaction (USD)  \\\n",
       "0               1.132484e+07                       28.276123   \n",
       "1               1.157201e+07                       32.247758   \n",
       "2               1.161368e+07                       30.999893   \n",
       "3               8.444052e+06                       28.138306   \n",
       "4               7.067806e+06                       25.830452   \n",
       "\n",
       "   Revenue/Transactions (USD)  Bitcoin Price  Bitcoin Open  Bitcoin High  \\\n",
       "0                  102.462144        15156.6       14754.1       15435.0   \n",
       "1                  129.759452        17172.3       16954.8       17252.8   \n",
       "2                  115.403963        14778.5       14976.2       15324.6   \n",
       "3                  129.199484        13886.7       13529.2       14176.4   \n",
       "4                  120.745723        13697.5       13695.5       14396.6   \n",
       "\n",
       "   Bitcoin Low    Vol.  Change %  \n",
       "0      14579.7  106540      2.73  \n",
       "1      16286.6   83930      1.28  \n",
       "2      14613.4   71400     -1.32  \n",
       "3      13410.0   82370      2.60  \n",
       "4      13475.4   73270      0.02  "
      ]
     },
     "execution_count": 6,
     "metadata": {},
     "output_type": "execute_result"
    }
   ],
   "source": [
    "merged_df.head()"
   ]
  },
  {
   "cell_type": "markdown",
   "id": "f453e22f",
   "metadata": {
    "papermill": {
     "duration": 0.011109,
     "end_time": "2023-03-10T13:07:56.539015",
     "exception": false,
     "start_time": "2023-03-10T13:07:56.527906",
     "status": "completed"
    },
    "tags": []
   },
   "source": [
    "### Explanation of new columns\n",
    "\n",
    "Bitcoin Open - Opening price of bitcoin on the day\n",
    "\n",
    "Bitcoin High - Highest price of bitcoin on the day \n",
    "\n",
    "Bitcoin Low - Lowest price of bitcoin on the day\n",
    "\n",
    "Vol - Volume of Bitcoin transactions on the day\n",
    "\n",
    "Percentage Change from previous day ()"
   ]
  },
  {
   "cell_type": "code",
   "execution_count": 7,
   "id": "7025d218",
   "metadata": {
    "execution": {
     "iopub.execute_input": "2023-03-10T13:07:56.564409Z",
     "iopub.status.busy": "2023-03-10T13:07:56.562693Z",
     "iopub.status.idle": "2023-03-10T13:07:56.592114Z",
     "shell.execute_reply": "2023-03-10T13:07:56.591093Z"
    },
    "papermill": {
     "duration": 0.043808,
     "end_time": "2023-03-10T13:07:56.594433",
     "exception": false,
     "start_time": "2023-03-10T13:07:56.550625",
     "status": "completed"
    },
    "tags": []
   },
   "outputs": [
    {
     "data": {
      "text/html": [
       "<div>\n",
       "<style scoped>\n",
       "    .dataframe tbody tr th:only-of-type {\n",
       "        vertical-align: middle;\n",
       "    }\n",
       "\n",
       "    .dataframe tbody tr th {\n",
       "        vertical-align: top;\n",
       "    }\n",
       "\n",
       "    .dataframe thead th {\n",
       "        text-align: right;\n",
       "    }\n",
       "</style>\n",
       "<table border=\"1\" class=\"dataframe\">\n",
       "  <thead>\n",
       "    <tr style=\"text-align: right;\">\n",
       "      <th></th>\n",
       "      <th>Date</th>\n",
       "      <th>month</th>\n",
       "      <th>day</th>\n",
       "      <th>year</th>\n",
       "      <th>Transactions</th>\n",
       "      <th>Block Rewards + Fees paid to miners (USD)</th>\n",
       "      <th>Fees paid to miners (BTC)</th>\n",
       "      <th>Fees paid to miners (USD)</th>\n",
       "      <th>Avg Fees per transaction (USD)</th>\n",
       "      <th>Revenue/Transactions (USD)</th>\n",
       "      <th>...</th>\n",
       "      <th>Bitcoin Open</th>\n",
       "      <th>Bitcoin High</th>\n",
       "      <th>Bitcoin Low</th>\n",
       "      <th>Vol.</th>\n",
       "      <th>Change %</th>\n",
       "      <th>Rolling Open Standard Deviation</th>\n",
       "      <th>Rolling 50-day Standard Deviation</th>\n",
       "      <th>Rolling 100-day Standard Deviation</th>\n",
       "      <th>50 day moving average</th>\n",
       "      <th>100 day moving average</th>\n",
       "    </tr>\n",
       "  </thead>\n",
       "  <tbody>\n",
       "    <tr>\n",
       "      <th>0</th>\n",
       "      <td>03/01/2018</td>\n",
       "      <td>1</td>\n",
       "      <td>3</td>\n",
       "      <td>2018</td>\n",
       "      <td>288429056</td>\n",
       "      <td>41037010.87</td>\n",
       "      <td>749.685473</td>\n",
       "      <td>1.132484e+07</td>\n",
       "      <td>28.276123</td>\n",
       "      <td>102.462144</td>\n",
       "      <td>...</td>\n",
       "      <td>14754.1</td>\n",
       "      <td>15435.0</td>\n",
       "      <td>14579.7</td>\n",
       "      <td>106540</td>\n",
       "      <td>2.73</td>\n",
       "      <td>NaN</td>\n",
       "      <td>NaN</td>\n",
       "      <td>NaN</td>\n",
       "      <td>NaN</td>\n",
       "      <td>NaN</td>\n",
       "    </tr>\n",
       "    <tr>\n",
       "      <th>1</th>\n",
       "      <td>06/01/2018</td>\n",
       "      <td>1</td>\n",
       "      <td>6</td>\n",
       "      <td>2018</td>\n",
       "      <td>289592587</td>\n",
       "      <td>46563789.98</td>\n",
       "      <td>694.477906</td>\n",
       "      <td>1.157201e+07</td>\n",
       "      <td>32.247758</td>\n",
       "      <td>129.759452</td>\n",
       "      <td>...</td>\n",
       "      <td>16954.8</td>\n",
       "      <td>17252.8</td>\n",
       "      <td>16286.6</td>\n",
       "      <td>83930</td>\n",
       "      <td>1.28</td>\n",
       "      <td>1556.129893</td>\n",
       "      <td>NaN</td>\n",
       "      <td>NaN</td>\n",
       "      <td>NaN</td>\n",
       "      <td>NaN</td>\n",
       "    </tr>\n",
       "    <tr>\n",
       "      <th>2</th>\n",
       "      <td>09/01/2018</td>\n",
       "      <td>1</td>\n",
       "      <td>9</td>\n",
       "      <td>2018</td>\n",
       "      <td>290665709</td>\n",
       "      <td>43234479.12</td>\n",
       "      <td>752.418203</td>\n",
       "      <td>1.161368e+07</td>\n",
       "      <td>30.999893</td>\n",
       "      <td>115.403963</td>\n",
       "      <td>...</td>\n",
       "      <td>14976.2</td>\n",
       "      <td>15324.6</td>\n",
       "      <td>14613.4</td>\n",
       "      <td>71400</td>\n",
       "      <td>-1.32</td>\n",
       "      <td>1399.081477</td>\n",
       "      <td>NaN</td>\n",
       "      <td>NaN</td>\n",
       "      <td>NaN</td>\n",
       "      <td>NaN</td>\n",
       "    </tr>\n",
       "    <tr>\n",
       "      <th>3</th>\n",
       "      <td>12/01/2018</td>\n",
       "      <td>1</td>\n",
       "      <td>12</td>\n",
       "      <td>2018</td>\n",
       "      <td>291709927</td>\n",
       "      <td>38771602.28</td>\n",
       "      <td>617.635794</td>\n",
       "      <td>8.444052e+06</td>\n",
       "      <td>28.138306</td>\n",
       "      <td>129.199484</td>\n",
       "      <td>...</td>\n",
       "      <td>13529.2</td>\n",
       "      <td>14176.4</td>\n",
       "      <td>13410.0</td>\n",
       "      <td>82370</td>\n",
       "      <td>2.60</td>\n",
       "      <td>1023.183512</td>\n",
       "      <td>NaN</td>\n",
       "      <td>NaN</td>\n",
       "      <td>NaN</td>\n",
       "      <td>NaN</td>\n",
       "    </tr>\n",
       "    <tr>\n",
       "      <th>4</th>\n",
       "      <td>15/01/2018</td>\n",
       "      <td>1</td>\n",
       "      <td>15</td>\n",
       "      <td>2018</td>\n",
       "      <td>292512025</td>\n",
       "      <td>33038806.92</td>\n",
       "      <td>510.117618</td>\n",
       "      <td>7.067806e+06</td>\n",
       "      <td>25.830452</td>\n",
       "      <td>120.745723</td>\n",
       "      <td>...</td>\n",
       "      <td>13695.5</td>\n",
       "      <td>14396.6</td>\n",
       "      <td>13475.4</td>\n",
       "      <td>73270</td>\n",
       "      <td>0.02</td>\n",
       "      <td>117.591858</td>\n",
       "      <td>NaN</td>\n",
       "      <td>NaN</td>\n",
       "      <td>NaN</td>\n",
       "      <td>NaN</td>\n",
       "    </tr>\n",
       "  </tbody>\n",
       "</table>\n",
       "<p>5 rows × 21 columns</p>\n",
       "</div>"
      ],
      "text/plain": [
       "         Date  month  day  year  Transactions  \\\n",
       "0  03/01/2018      1    3  2018     288429056   \n",
       "1  06/01/2018      1    6  2018     289592587   \n",
       "2  09/01/2018      1    9  2018     290665709   \n",
       "3  12/01/2018      1   12  2018     291709927   \n",
       "4  15/01/2018      1   15  2018     292512025   \n",
       "\n",
       "   Block Rewards + Fees paid to miners (USD)  Fees paid to miners (BTC)  \\\n",
       "0                                41037010.87                 749.685473   \n",
       "1                                46563789.98                 694.477906   \n",
       "2                                43234479.12                 752.418203   \n",
       "3                                38771602.28                 617.635794   \n",
       "4                                33038806.92                 510.117618   \n",
       "\n",
       "   Fees paid to miners (USD)  Avg Fees per transaction (USD)  \\\n",
       "0               1.132484e+07                       28.276123   \n",
       "1               1.157201e+07                       32.247758   \n",
       "2               1.161368e+07                       30.999893   \n",
       "3               8.444052e+06                       28.138306   \n",
       "4               7.067806e+06                       25.830452   \n",
       "\n",
       "   Revenue/Transactions (USD)  ...  Bitcoin Open  Bitcoin High  Bitcoin Low  \\\n",
       "0                  102.462144  ...       14754.1       15435.0      14579.7   \n",
       "1                  129.759452  ...       16954.8       17252.8      16286.6   \n",
       "2                  115.403963  ...       14976.2       15324.6      14613.4   \n",
       "3                  129.199484  ...       13529.2       14176.4      13410.0   \n",
       "4                  120.745723  ...       13695.5       14396.6      13475.4   \n",
       "\n",
       "     Vol.  Change %  Rolling Open Standard Deviation  \\\n",
       "0  106540      2.73                              NaN   \n",
       "1   83930      1.28                      1556.129893   \n",
       "2   71400     -1.32                      1399.081477   \n",
       "3   82370      2.60                      1023.183512   \n",
       "4   73270      0.02                       117.591858   \n",
       "\n",
       "   Rolling 50-day Standard Deviation  Rolling 100-day Standard Deviation  \\\n",
       "0                                NaN                                 NaN   \n",
       "1                                NaN                                 NaN   \n",
       "2                                NaN                                 NaN   \n",
       "3                                NaN                                 NaN   \n",
       "4                                NaN                                 NaN   \n",
       "\n",
       "   50 day moving average  100 day moving average  \n",
       "0                    NaN                     NaN  \n",
       "1                    NaN                     NaN  \n",
       "2                    NaN                     NaN  \n",
       "3                    NaN                     NaN  \n",
       "4                    NaN                     NaN  \n",
       "\n",
       "[5 rows x 21 columns]"
      ]
     },
     "execution_count": 7,
     "metadata": {},
     "output_type": "execute_result"
    }
   ],
   "source": [
    "merged_df['Rolling Open Standard Deviation'] = merged_df['Bitcoin Open'].rolling(2).std()\n",
    "merged_df['Rolling 50-day Standard Deviation'] = merged_df['Bitcoin Price'].rolling(17).std()\n",
    "merged_df['Rolling 100-day Standard Deviation'] = merged_df['Bitcoin Price'].rolling(67).std()\n",
    "merged_df['50 day moving average'] = merged_df['Bitcoin Price'].rolling(17).mean()\n",
    "merged_df['100 day moving average'] = merged_df['Bitcoin Price'].rolling(67).mean()\n",
    "merged_df.head()\n"
   ]
  },
  {
   "cell_type": "markdown",
   "id": "49866187",
   "metadata": {
    "papermill": {
     "duration": 0.011311,
     "end_time": "2023-03-10T13:07:56.618014",
     "exception": false,
     "start_time": "2023-03-10T13:07:56.606703",
     "status": "completed"
    },
    "tags": []
   },
   "source": [
    "### Rolling functions applied on the merged database\n",
    "### Figure 1 - Rolling 3-day standard deviation\n",
    "### Figure 2 - 50-day moving averages\n",
    "### Figure 3 - 100-day moving averages"
   ]
  },
  {
   "cell_type": "code",
   "execution_count": 8,
   "id": "bea69deb",
   "metadata": {
    "execution": {
     "iopub.execute_input": "2023-03-10T13:07:56.642089Z",
     "iopub.status.busy": "2023-03-10T13:07:56.641451Z",
     "iopub.status.idle": "2023-03-10T13:07:57.157466Z",
     "shell.execute_reply": "2023-03-10T13:07:57.156448Z"
    },
    "papermill": {
     "duration": 0.530654,
     "end_time": "2023-03-10T13:07:57.159738",
     "exception": false,
     "start_time": "2023-03-10T13:07:56.629084",
     "status": "completed"
    },
    "tags": []
   },
   "outputs": [
    {
     "data": {
      "image/png": "[encoded data removed]",
      "text/plain": [
       "<Figure size 432x288 with 1 Axes>"
      ]
     },
     "metadata": {
      "needs_background": "light"
     },
     "output_type": "display_data"
    },
    {
     "data": {
      "image/png": "[encoded data removed]",
      "text/plain": [
       "<Figure size 432x288 with 1 Axes>"
      ]
     },
     "metadata": {
      "needs_background": "light"
     },
     "output_type": "display_data"
    },
    {
     "data": {
      "image/png": "[encoded data removed]",
      "text/plain": [
       "<Figure size 432x288 with 1 Axes>"
      ]
     },
     "metadata": {
      "needs_background": "light"
     },
     "output_type": "display_data"
    }
   ],
   "source": [
    "\n",
    "x = [100,200,300,400]\n",
    "labels = ['30/10/18', '26/08/19', '21/06/20', '17/04/21']\n",
    "\n",
    "plt.plot(merged_df['Rolling Open Standard Deviation'])\n",
    "plt.ylabel(\"Rolling 3-Day Standard Deviation\")\n",
    "plt.xticks(x,labels)\n",
    "plt.show()\n",
    "plt.plot(merged_df['50 day moving average'])\n",
    "plt.ylabel(\"50-day moving average\")\n",
    "plt.xticks(x,labels)\n",
    "plt.show()\n",
    "plt.plot(merged_df['100 day moving average'])\n",
    "plt.ylabel(\"100-day moving average\")\n",
    "plt.xticks(x,labels)\n",
    "plt.show()\n"
   ]
  },
  {
   "cell_type": "code",
   "execution_count": 9,
   "id": "b5b8b460",
   "metadata": {
    "execution": {
     "iopub.execute_input": "2023-03-10T13:07:57.186789Z",
     "iopub.status.busy": "2023-03-10T13:07:57.186480Z",
     "iopub.status.idle": "2023-03-10T13:07:57.192862Z",
     "shell.execute_reply": "2023-03-10T13:07:57.191976Z"
    },
    "papermill": {
     "duration": 0.021754,
     "end_time": "2023-03-10T13:07:57.195051",
     "exception": false,
     "start_time": "2023-03-10T13:07:57.173297",
     "status": "completed"
    },
    "tags": []
   },
   "outputs": [],
   "source": [
    "corr_matrix = merged_df.corr()\n"
   ]
  },
  {
   "cell_type": "code",
   "execution_count": 10,
   "id": "d593cba6",
   "metadata": {
    "execution": {
     "iopub.execute_input": "2023-03-10T13:07:57.220893Z",
     "iopub.status.busy": "2023-03-10T13:07:57.220507Z",
     "iopub.status.idle": "2023-03-10T13:07:58.715280Z",
     "shell.execute_reply": "2023-03-10T13:07:58.714313Z"
    },
    "papermill": {
     "duration": 1.510079,
     "end_time": "2023-03-10T13:07:58.717574",
     "exception": false,
     "start_time": "2023-03-10T13:07:57.207495",
     "status": "completed"
    },
    "tags": []
   },
   "outputs": [
    {
     "data": {
      "text/plain": [
       "<AxesSubplot:>"
      ]
     },
     "execution_count": 10,
     "metadata": {},
     "output_type": "execute_result"
    },
    {
     "data": {
      "image/png": "[encoded data removed]",
      "text/plain": [
       "<Figure size 432x288 with 2 Axes>"
      ]
     },
     "metadata": {
      "needs_background": "light"
     },
     "output_type": "display_data"
    }
   ],
   "source": [
    "import seaborn as sns\n",
    "\n",
    "sns.heatmap(corr_matrix)"
   ]
  },
  {
   "cell_type": "markdown",
   "id": "2e01b97e",
   "metadata": {
    "papermill": {
     "duration": 0.01218,
     "end_time": "2023-03-10T13:07:58.742682",
     "exception": false,
     "start_time": "2023-03-10T13:07:58.730502",
     "status": "completed"
    },
    "tags": []
   },
   "source": [
    "# DBSCAN clustering. A density based clustering algorithm designed to handle noise and detect outliers\n",
    "\n",
    "### DBSCAN module imported to use as an analytic tool for unsupervised learning to find patterns\n",
    "### Linear Regression module imported as a type of predictive analysis to model relationships and describe data\n",
    "\n",
    "### These tools will look at the relationship between the Average Transaction fees (USD) and the price of Bitcoin on that given day."
   ]
  },
  {
   "cell_type": "code",
   "execution_count": 11,
   "id": "8ff26c4b",
   "metadata": {
    "execution": {
     "iopub.execute_input": "2023-03-10T13:07:58.769094Z",
     "iopub.status.busy": "2023-03-10T13:07:58.768259Z",
     "iopub.status.idle": "2023-03-10T13:07:59.274544Z",
     "shell.execute_reply": "2023-03-10T13:07:59.273656Z"
    },
    "papermill": {
     "duration": 0.522112,
     "end_time": "2023-03-10T13:07:59.276986",
     "exception": false,
     "start_time": "2023-03-10T13:07:58.754874",
     "status": "completed"
    },
    "tags": []
   },
   "outputs": [
    {
     "data": {
      "image/png": "[encoded data removed]",
      "text/plain": [
       "<Figure size 432x288 with 1 Axes>"
      ]
     },
     "metadata": {
      "needs_background": "light"
     },
     "output_type": "display_data"
    }
   ],
   "source": [
    "from sklearn.cluster import DBSCAN\n",
    "from sklearn.model_selection import train_test_split\n",
    "from sklearn.linear_model import LinearRegression\n",
    "\n",
    "x = merged_df.loc[:,['Fees paid to miners (USD)', 'Bitcoin Price']].values\n",
    "eps = 5\n",
    "dbscan = DBSCAN(eps=eps, min_samples = 4).fit(x)\n",
    "labels = dbscan.labels_\n",
    "\n",
    "plt.scatter(x[:,0], x[:,1], c=labels, cmap=\"plasma\")\n",
    "plt.xlabel(\"Fees paid to miners (USD)\")\n",
    "plt.ylabel(\"Bitcoin Price\")\n",
    "plt.show()"
   ]
  },
  {
   "cell_type": "code",
   "execution_count": 12,
   "id": "f4007e5a",
   "metadata": {
    "execution": {
     "iopub.execute_input": "2023-03-10T13:07:59.304175Z",
     "iopub.status.busy": "2023-03-10T13:07:59.303882Z",
     "iopub.status.idle": "2023-03-10T13:07:59.545511Z",
     "shell.execute_reply": "2023-03-10T13:07:59.544532Z"
    },
    "papermill": {
     "duration": 0.257356,
     "end_time": "2023-03-10T13:07:59.547520",
     "exception": false,
     "start_time": "2023-03-10T13:07:59.290164",
     "status": "completed"
    },
    "tags": []
   },
   "outputs": [
    {
     "data": {
      "image/png": "[encoded data removed]",
      "text/plain": [
       "<Figure size 576x576 with 1 Axes>"
      ]
     },
     "metadata": {
      "needs_background": "light"
     },
     "output_type": "display_data"
    }
   ],
   "source": [
    "from sklearn.cluster import DBSCAN\n",
    "from sklearn.model_selection import train_test_split\n",
    "from sklearn.linear_model import LinearRegression\n",
    "\n",
    "x = merged_df.loc[:,['Avg Fees per transaction (USD)', 'Bitcoin Price']].values\n",
    "eps = 1050\n",
    "dbscan = DBSCAN(algorithm='brute', leaf_size=30, p=None, n_jobs=None, metric=\"euclidean\", eps=eps, min_samples = 3).fit(x)\n",
    "clustering_labels = dbscan.fit_predict(x)\n",
    "labels = dbscan.labels_\n",
    "\n",
    "f = plt.figure()\n",
    "f.set_figwidth(8)\n",
    "f.set_figheight(8)\n",
    "plt.scatter(x[:,1], x[:,0], c=labels, cmap=\"plasma\")\n",
    "plt.ylabel(\"Avg Fees per transaction (USD)\")\n",
    "plt.xlabel(\"Bitcoin Price\")\n",
    "plt.show()"
   ]
  },
  {
   "cell_type": "code",
   "execution_count": 13,
   "id": "7448c181",
   "metadata": {
    "execution": {
     "iopub.execute_input": "2023-03-10T13:07:59.575356Z",
     "iopub.status.busy": "2023-03-10T13:07:59.575056Z",
     "iopub.status.idle": "2023-03-10T13:07:59.588979Z",
     "shell.execute_reply": "2023-03-10T13:07:59.586826Z"
    },
    "papermill": {
     "duration": 0.033439,
     "end_time": "2023-03-10T13:07:59.594500",
     "exception": false,
     "start_time": "2023-03-10T13:07:59.561061",
     "status": "completed"
    },
    "tags": []
   },
   "outputs": [
    {
     "name": "stdout",
     "output_type": "stream",
     "text": [
      "Silhouette score:  0.7050517249524746\n"
     ]
    }
   ],
   "source": [
    "from sklearn.metrics import silhouette_score\n",
    "db_score = silhouette_score(x,clustering_labels, metric='euclidean')\n",
    "print(\"Silhouette score: \", db_score)"
   ]
  },
  {
   "cell_type": "code",
   "execution_count": 14,
   "id": "8e10bcf1",
   "metadata": {
    "execution": {
     "iopub.execute_input": "2023-03-10T13:07:59.667000Z",
     "iopub.status.busy": "2023-03-10T13:07:59.666417Z",
     "iopub.status.idle": "2023-03-10T13:07:59.686703Z",
     "shell.execute_reply": "2023-03-10T13:07:59.685476Z"
    },
    "papermill": {
     "duration": 0.060131,
     "end_time": "2023-03-10T13:07:59.689830",
     "exception": false,
     "start_time": "2023-03-10T13:07:59.629699",
     "status": "completed"
    },
    "tags": []
   },
   "outputs": [],
   "source": [
    "from sklearn.neighbors import NearestNeighbors\n",
    "neigh = NearestNeighbors(n_neighbors=2)\n",
    "nbrs = neigh.fit(merged_df.loc[:,['Fees paid to miners (USD)', 'Bitcoin Price']])\n",
    "distances, indices = nbrs.kneighbors(merged_df.loc[:,['Fees paid to miners (USD)', 'Bitcoin Price']])"
   ]
  },
  {
   "cell_type": "code",
   "execution_count": 15,
   "id": "9068bb8b",
   "metadata": {
    "execution": {
     "iopub.execute_input": "2023-03-10T13:07:59.731678Z",
     "iopub.status.busy": "2023-03-10T13:07:59.731372Z",
     "iopub.status.idle": "2023-03-10T13:07:59.915584Z",
     "shell.execute_reply": "2023-03-10T13:07:59.914656Z"
    },
    "papermill": {
     "duration": 0.200533,
     "end_time": "2023-03-10T13:07:59.917862",
     "exception": false,
     "start_time": "2023-03-10T13:07:59.717329",
     "status": "completed"
    },
    "tags": []
   },
   "outputs": [
    {
     "data": {
      "image/png": "[encoded data removed]",
      "text/plain": [
       "<Figure size 360x216 with 1 Axes>"
      ]
     },
     "metadata": {
      "needs_background": "light"
     },
     "output_type": "display_data"
    }
   ],
   "source": [
    "# Sort and plot the distances results\n",
    "distances = np.sort(distances, axis = 0) # sorting the distances\n",
    "distances = distances[:, 1] # taking the second column of the sorted distances\n",
    "plt.rcParams['figure.figsize'] = (5,3) # setting the figure size\n",
    "plt.plot(distances) # plotting the distances\n",
    "plt.show() # showing the plot"
   ]
  },
  {
   "cell_type": "markdown",
   "id": "da233535",
   "metadata": {
    "papermill": {
     "duration": 0.013216,
     "end_time": "2023-03-10T13:07:59.944912",
     "exception": false,
     "start_time": "2023-03-10T13:07:59.931696",
     "status": "completed"
    },
    "tags": []
   },
   "source": [
    "  \n",
    "  "
   ]
  },
  {
   "cell_type": "markdown",
   "id": "ef2ba32d",
   "metadata": {
    "papermill": {
     "duration": 0.013111,
     "end_time": "2023-03-10T13:07:59.971210",
     "exception": false,
     "start_time": "2023-03-10T13:07:59.958099",
     "status": "completed"
    },
    "tags": []
   },
   "source": [
    "### Application of Linear Regression  "
   ]
  },
  {
   "cell_type": "code",
   "execution_count": 16,
   "id": "57277d47",
   "metadata": {
    "execution": {
     "iopub.execute_input": "2023-03-10T13:08:00.000190Z",
     "iopub.status.busy": "2023-03-10T13:07:59.998646Z",
     "iopub.status.idle": "2023-03-10T13:08:00.023391Z",
     "shell.execute_reply": "2023-03-10T13:08:00.022301Z"
    },
    "papermill": {
     "duration": 0.041447,
     "end_time": "2023-03-10T13:08:00.025867",
     "exception": false,
     "start_time": "2023-03-10T13:07:59.984420",
     "status": "completed"
    },
    "tags": []
   },
   "outputs": [
    {
     "name": "stdout",
     "output_type": "stream",
     "text": [
      "0.3329254602845745\n"
     ]
    }
   ],
   "source": [
    "TFMR_transaction = merged_df[['Avg Fees per transaction (USD)','Bitcoin Price']]\n",
    "TFMR_transaction.columns = ['AvgFees','Bitcoin Price']\n",
    "\n",
    "\n",
    "# Drop first row to make number of rows 552 instead of 553 to satisfy train_test_split\n",
    "TFMR_transaction = TFMR_transaction.iloc[1:, :]\n",
    "TFMR_transaction.fillna(method ='ffill', inplace = True)\n",
    "\n",
    "y = np.array(TFMR_transaction['AvgFees']).reshape(-1,1)\n",
    "X = np.array(TFMR_transaction['Bitcoin Price']).reshape(-1,1)\n",
    "\n",
    "X_train, x_test, y_train , y_test = train_test_split(X, y, test_size=0.5)\n",
    "reg = LinearRegression()\n",
    "reg.fit(X_train, y_train)\n",
    "print(reg.score(x_test,y_test))"
   ]
  },
  {
   "cell_type": "code",
   "execution_count": 17,
   "id": "06df85e0",
   "metadata": {
    "execution": {
     "iopub.execute_input": "2023-03-10T13:08:00.054917Z",
     "iopub.status.busy": "2023-03-10T13:08:00.054013Z",
     "iopub.status.idle": "2023-03-10T13:08:00.262388Z",
     "shell.execute_reply": "2023-03-10T13:08:00.261497Z"
    },
    "papermill": {
     "duration": 0.224727,
     "end_time": "2023-03-10T13:08:00.264570",
     "exception": false,
     "start_time": "2023-03-10T13:08:00.039843",
     "status": "completed"
    },
    "tags": []
   },
   "outputs": [
    {
     "data": {
      "image/png": "[encoded data removed]",
      "text/plain": [
       "<Figure size 576x576 with 1 Axes>"
      ]
     },
     "metadata": {
      "needs_background": "light"
     },
     "output_type": "display_data"
    }
   ],
   "source": [
    "y_pred = reg.predict(x_test)\n",
    "fig = plt.figure()\n",
    "fig.set_figwidth(8)\n",
    "fig.set_figheight(8)\n",
    "plt.scatter(x_test,y_test, color='b')\n",
    "plt.ylabel(\"AvgFees\")\n",
    "plt.xlabel(\"Bitcoin Price\")\n",
    "plt.plot(x_test,y_pred, color='k')\n",
    "\n",
    "plt.show()"
   ]
  },
  {
   "cell_type": "markdown",
   "id": "d70e8396",
   "metadata": {
    "papermill": {
     "duration": 0.013865,
     "end_time": "2023-03-10T13:08:00.292436",
     "exception": false,
     "start_time": "2023-03-10T13:08:00.278571",
     "status": "completed"
    },
    "tags": []
   },
   "source": [
    "### Retrieve p-values using the statsmodels api for the linear regression"
   ]
  },
  {
   "cell_type": "code",
   "execution_count": 18,
   "id": "38406f9c",
   "metadata": {
    "execution": {
     "iopub.execute_input": "2023-03-10T13:08:00.322465Z",
     "iopub.status.busy": "2023-03-10T13:08:00.321409Z",
     "iopub.status.idle": "2023-03-10T13:08:00.990299Z",
     "shell.execute_reply": "2023-03-10T13:08:00.989163Z"
    },
    "papermill": {
     "duration": 0.687957,
     "end_time": "2023-03-10T13:08:00.994387",
     "exception": false,
     "start_time": "2023-03-10T13:08:00.306430",
     "status": "completed"
    },
    "tags": []
   },
   "outputs": [
    {
     "name": "stdout",
     "output_type": "stream",
     "text": [
      "p values: \n",
      "0.0007357393330015405\n",
      "2.2010481157135177e-75\n",
      "                            OLS Regression Results                            \n",
      "==============================================================================\n",
      "Dep. Variable:                      y   R-squared:                       0.535\n",
      "Model:                            OLS   Adj. R-squared:                  0.534\n",
      "Method:                 Least Squares   F-statistic:                     507.8\n",
      "Date:                Fri, 10 Mar 2023   Prob (F-statistic):           2.20e-75\n",
      "Time:                        13:08:00   Log-Likelihood:                -1342.6\n",
      "No. Observations:                 443   AIC:                             2689.\n",
      "Df Residuals:                     441   BIC:                             2697.\n",
      "Df Model:                           1                                         \n",
      "Covariance Type:            nonrobust                                         \n",
      "==============================================================================\n",
      "                 coef    std err          t      P>|t|      [0.025      0.975]\n",
      "------------------------------------------------------------------------------\n",
      "const         -1.1635      0.342     -3.400      0.001      -1.836      -0.491\n",
      "x1             0.0004   1.63e-05     22.535      0.000       0.000       0.000\n",
      "==============================================================================\n",
      "Omnibus:                      353.451   Durbin-Watson:                   0.235\n",
      "Prob(Omnibus):                  0.000   Jarque-Bera (JB):             8399.740\n",
      "Skew:                           3.233   Prob(JB):                         0.00\n",
      "Kurtosis:                      23.329   Cond. No.                     3.01e+04\n",
      "==============================================================================\n",
      "\n",
      "Notes:\n",
      "[1] Standard Errors assume that the covariance matrix of the errors is correctly specified.\n",
      "[2] The condition number is large, 3.01e+04. This might indicate that there are\n",
      "strong multicollinearity or other numerical problems.\n"
     ]
    }
   ],
   "source": [
    "\n",
    "import statsmodels.api as sm\n",
    "X = sm.add_constant(X)\n",
    "model = sm.OLS(y,X)\n",
    "results = model.fit()\n",
    "print(\"p values: \")\n",
    "for x in range(0,2):\n",
    "    print(results.pvalues[x])\n",
    "print(results.summary())\n",
    "\n"
   ]
  },
  {
   "cell_type": "markdown",
   "id": "b0cf6b90",
   "metadata": {
    "papermill": {
     "duration": 0.013586,
     "end_time": "2023-03-10T13:08:01.023583",
     "exception": false,
     "start_time": "2023-03-10T13:08:01.009997",
     "status": "completed"
    },
    "tags": []
   },
   "source": [
    "# Summary\n",
    "\n",
    "**coef** - shows the coefficient for each independent variable and intercept variable\n",
    "\n",
    "**std error/t** - An estimate of the standard deviation of the corresponding variable's coefficient across all data points. \n",
    "\n",
    "\n",
    "**P>t** - How likely is it that the coefficient is measured through the model by chance? \n",
    "\n",
    "- The p-value of the variable (Fees paid to miners(USD)) is <0.05 (critical limit) which shows that this is a statistically significant\n",
    "\n",
    "\n",
    "\n",
    "**Rsquared** - quality of the model fit - How much the independent variable is explained by the changes in the dependent variable\n",
    "i.e a Rsquared value of 0.535 means that the model can explain 53.5% of the change in the dependent variable ()\n",
    "\n",
    "\n",
    "**F-statistic** - Examines whether the group of variables is *statistically significant* by comparing this model with another model where the effect of the variables are reduced to 0.\n",
    "\n",
    "\n",
    "\n",
    "\n",
    "#### With p-values being so small and below the critical limit, the null hypothesis(results are completely random) can be rejected and the idea that the change in transaction fees had a significant impact on the price of Bitcoin \n"
   ]
  },
  {
   "cell_type": "markdown",
   "id": "baac175f",
   "metadata": {
    "papermill": {
     "duration": 0.013586,
     "end_time": "2023-03-10T13:08:01.050997",
     "exception": false,
     "start_time": "2023-03-10T13:08:01.037411",
     "status": "completed"
    },
    "tags": []
   },
   "source": [
    "Robust Regression"
   ]
  },
  {
   "cell_type": "code",
   "execution_count": null,
   "id": "c61e910b",
   "metadata": {
    "papermill": {
     "duration": 0.013389,
     "end_time": "2023-03-10T13:08:01.078104",
     "exception": false,
     "start_time": "2023-03-10T13:08:01.064715",
     "status": "completed"
    },
    "tags": []
   },
   "outputs": [],
   "source": []
  },
  {
   "cell_type": "markdown",
   "id": "553c8b74",
   "metadata": {
    "papermill": {
     "duration": 0.013424,
     "end_time": "2023-03-10T13:08:01.105146",
     "exception": false,
     "start_time": "2023-03-10T13:08:01.091722",
     "status": "completed"
    },
    "tags": []
   },
   "source": [
    "### Implementation of the Isolation Forest to detect anomalies\n"
   ]
  },
  {
   "cell_type": "code",
   "execution_count": 19,
   "id": "3a1e33c2",
   "metadata": {
    "execution": {
     "iopub.execute_input": "2023-03-10T13:08:01.134197Z",
     "iopub.status.busy": "2023-03-10T13:08:01.133520Z",
     "iopub.status.idle": "2023-03-10T13:08:01.252273Z",
     "shell.execute_reply": "2023-03-10T13:08:01.250936Z"
    },
    "papermill": {
     "duration": 0.136518,
     "end_time": "2023-03-10T13:08:01.255154",
     "exception": false,
     "start_time": "2023-03-10T13:08:01.118636",
     "status": "completed"
    },
    "tags": []
   },
   "outputs": [
    {
     "data": {
      "text/plain": [
       "IsolationForest(n_estimators=50)"
      ]
     },
     "execution_count": 19,
     "metadata": {},
     "output_type": "execute_result"
    }
   ],
   "source": [
    "from sklearn.ensemble import IsolationForest\n",
    "\n",
    "ISF = IsolationForest(n_estimators=50,max_samples=\"auto\",contamination=\"auto\",max_features=1.0)\n",
    "bp = np.array(merged_df['Bitcoin Price']).reshape(-1,1)\n",
    "avg = np.array(merged_df['Avg Fees per transaction (USD)']).reshape(-1,1)\n",
    "ISF.fit(avg)\n"
   ]
  },
  {
   "cell_type": "code",
   "execution_count": 20,
   "id": "efbba3c8",
   "metadata": {
    "execution": {
     "iopub.execute_input": "2023-03-10T13:08:01.287418Z",
     "iopub.status.busy": "2023-03-10T13:08:01.287119Z",
     "iopub.status.idle": "2023-03-10T13:08:01.292931Z",
     "shell.execute_reply": "2023-03-10T13:08:01.291845Z"
    },
    "papermill": {
     "duration": 0.025026,
     "end_time": "2023-03-10T13:08:01.295035",
     "exception": false,
     "start_time": "2023-03-10T13:08:01.270009",
     "status": "completed"
    },
    "tags": []
   },
   "outputs": [],
   "source": [
    "df2 = merged_df[['Avg Fees per transaction (USD)','Bitcoin Price']]"
   ]
  },
  {
   "cell_type": "code",
   "execution_count": 21,
   "id": "92a4a11a",
   "metadata": {
    "execution": {
     "iopub.execute_input": "2023-03-10T13:08:01.324657Z",
     "iopub.status.busy": "2023-03-10T13:08:01.324355Z",
     "iopub.status.idle": "2023-03-10T13:08:01.402670Z",
     "shell.execute_reply": "2023-03-10T13:08:01.401473Z"
    },
    "papermill": {
     "duration": 0.0959,
     "end_time": "2023-03-10T13:08:01.405073",
     "exception": false,
     "start_time": "2023-03-10T13:08:01.309173",
     "status": "completed"
    },
    "tags": []
   },
   "outputs": [
    {
     "name": "stderr",
     "output_type": "stream",
     "text": [
      "/opt/conda/lib/python3.7/site-packages/sklearn/base.py:444: UserWarning: X has feature names, but IsolationForest was fitted without feature names\n",
      "  f\"X has feature names, but {self.__class__.__name__} was fitted without\"\n",
      "/opt/conda/lib/python3.7/site-packages/ipykernel_launcher.py:1: SettingWithCopyWarning: \n",
      "A value is trying to be set on a copy of a slice from a DataFrame.\n",
      "Try using .loc[row_indexer,col_indexer] = value instead\n",
      "\n",
      "See the caveats in the documentation: https://pandas.pydata.org/pandas-docs/stable/user_guide/indexing.html#returning-a-view-versus-a-copy\n",
      "  \"\"\"Entry point for launching an IPython kernel.\n",
      "/opt/conda/lib/python3.7/site-packages/sklearn/base.py:444: UserWarning: X has feature names, but IsolationForest was fitted without feature names\n",
      "  f\"X has feature names, but {self.__class__.__name__} was fitted without\"\n",
      "/opt/conda/lib/python3.7/site-packages/ipykernel_launcher.py:2: SettingWithCopyWarning: \n",
      "A value is trying to be set on a copy of a slice from a DataFrame.\n",
      "Try using .loc[row_indexer,col_indexer] = value instead\n",
      "\n",
      "See the caveats in the documentation: https://pandas.pydata.org/pandas-docs/stable/user_guide/indexing.html#returning-a-view-versus-a-copy\n",
      "  \n"
     ]
    },
    {
     "data": {
      "text/html": [
       "<div>\n",
       "<style scoped>\n",
       "    .dataframe tbody tr th:only-of-type {\n",
       "        vertical-align: middle;\n",
       "    }\n",
       "\n",
       "    .dataframe tbody tr th {\n",
       "        vertical-align: top;\n",
       "    }\n",
       "\n",
       "    .dataframe thead th {\n",
       "        text-align: right;\n",
       "    }\n",
       "</style>\n",
       "<table border=\"1\" class=\"dataframe\">\n",
       "  <thead>\n",
       "    <tr style=\"text-align: right;\">\n",
       "      <th></th>\n",
       "      <th>Avg Fees per transaction (USD)</th>\n",
       "      <th>Bitcoin Price</th>\n",
       "      <th>scores</th>\n",
       "      <th>anomaly</th>\n",
       "    </tr>\n",
       "  </thead>\n",
       "  <tbody>\n",
       "    <tr>\n",
       "      <th>0</th>\n",
       "      <td>28.276123</td>\n",
       "      <td>15156.6</td>\n",
       "      <td>-0.167245</td>\n",
       "      <td>-1</td>\n",
       "    </tr>\n",
       "    <tr>\n",
       "      <th>1</th>\n",
       "      <td>32.247758</td>\n",
       "      <td>17172.3</td>\n",
       "      <td>-0.214918</td>\n",
       "      <td>-1</td>\n",
       "    </tr>\n",
       "    <tr>\n",
       "      <th>2</th>\n",
       "      <td>30.999893</td>\n",
       "      <td>14778.5</td>\n",
       "      <td>-0.197715</td>\n",
       "      <td>-1</td>\n",
       "    </tr>\n",
       "    <tr>\n",
       "      <th>3</th>\n",
       "      <td>28.138306</td>\n",
       "      <td>13886.7</td>\n",
       "      <td>-0.166342</td>\n",
       "      <td>-1</td>\n",
       "    </tr>\n",
       "    <tr>\n",
       "      <th>4</th>\n",
       "      <td>25.830452</td>\n",
       "      <td>13697.5</td>\n",
       "      <td>-0.149452</td>\n",
       "      <td>-1</td>\n",
       "    </tr>\n",
       "    <tr>\n",
       "      <th>5</th>\n",
       "      <td>24.411259</td>\n",
       "      <td>11245.4</td>\n",
       "      <td>-0.119067</td>\n",
       "      <td>-1</td>\n",
       "    </tr>\n",
       "    <tr>\n",
       "      <th>6</th>\n",
       "      <td>18.860830</td>\n",
       "      <td>11594.9</td>\n",
       "      <td>-0.056884</td>\n",
       "      <td>-1</td>\n",
       "    </tr>\n",
       "    <tr>\n",
       "      <th>7</th>\n",
       "      <td>12.409006</td>\n",
       "      <td>11452.3</td>\n",
       "      <td>-0.049167</td>\n",
       "      <td>-1</td>\n",
       "    </tr>\n",
       "    <tr>\n",
       "      <th>8</th>\n",
       "      <td>9.772750</td>\n",
       "      <td>11467.5</td>\n",
       "      <td>-0.049785</td>\n",
       "      <td>-1</td>\n",
       "    </tr>\n",
       "    <tr>\n",
       "      <th>9</th>\n",
       "      <td>7.158893</td>\n",
       "      <td>10166.0</td>\n",
       "      <td>-0.029225</td>\n",
       "      <td>-1</td>\n",
       "    </tr>\n",
       "    <tr>\n",
       "      <th>10</th>\n",
       "      <td>9.950891</td>\n",
       "      <td>8893.2</td>\n",
       "      <td>-0.045339</td>\n",
       "      <td>-1</td>\n",
       "    </tr>\n",
       "    <tr>\n",
       "      <th>11</th>\n",
       "      <td>6.056735</td>\n",
       "      <td>6938.5</td>\n",
       "      <td>-0.005792</td>\n",
       "      <td>-1</td>\n",
       "    </tr>\n",
       "    <tr>\n",
       "      <th>12</th>\n",
       "      <td>4.161643</td>\n",
       "      <td>8164.2</td>\n",
       "      <td>0.006560</td>\n",
       "      <td>1</td>\n",
       "    </tr>\n",
       "    <tr>\n",
       "      <th>13</th>\n",
       "      <td>3.470591</td>\n",
       "      <td>8081.9</td>\n",
       "      <td>0.047398</td>\n",
       "      <td>1</td>\n",
       "    </tr>\n",
       "    <tr>\n",
       "      <th>14</th>\n",
       "      <td>2.926191</td>\n",
       "      <td>9476.3</td>\n",
       "      <td>0.040421</td>\n",
       "      <td>1</td>\n",
       "    </tr>\n",
       "    <tr>\n",
       "      <th>15</th>\n",
       "      <td>2.984184</td>\n",
       "      <td>11073.5</td>\n",
       "      <td>0.038626</td>\n",
       "      <td>1</td>\n",
       "    </tr>\n",
       "    <tr>\n",
       "      <th>16</th>\n",
       "      <td>3.027349</td>\n",
       "      <td>11238.7</td>\n",
       "      <td>0.033618</td>\n",
       "      <td>1</td>\n",
       "    </tr>\n",
       "    <tr>\n",
       "      <th>17</th>\n",
       "      <td>3.960660</td>\n",
       "      <td>10170.4</td>\n",
       "      <td>0.023453</td>\n",
       "      <td>1</td>\n",
       "    </tr>\n",
       "    <tr>\n",
       "      <th>18</th>\n",
       "      <td>2.478777</td>\n",
       "      <td>10285.1</td>\n",
       "      <td>0.082585</td>\n",
       "      <td>1</td>\n",
       "    </tr>\n",
       "    <tr>\n",
       "      <th>19</th>\n",
       "      <td>2.366781</td>\n",
       "      <td>10904.5</td>\n",
       "      <td>0.077292</td>\n",
       "      <td>1</td>\n",
       "    </tr>\n",
       "  </tbody>\n",
       "</table>\n",
       "</div>"
      ],
      "text/plain": [
       "    Avg Fees per transaction (USD)  Bitcoin Price    scores  anomaly\n",
       "0                        28.276123        15156.6 -0.167245       -1\n",
       "1                        32.247758        17172.3 -0.214918       -1\n",
       "2                        30.999893        14778.5 -0.197715       -1\n",
       "3                        28.138306        13886.7 -0.166342       -1\n",
       "4                        25.830452        13697.5 -0.149452       -1\n",
       "5                        24.411259        11245.4 -0.119067       -1\n",
       "6                        18.860830        11594.9 -0.056884       -1\n",
       "7                        12.409006        11452.3 -0.049167       -1\n",
       "8                         9.772750        11467.5 -0.049785       -1\n",
       "9                         7.158893        10166.0 -0.029225       -1\n",
       "10                        9.950891         8893.2 -0.045339       -1\n",
       "11                        6.056735         6938.5 -0.005792       -1\n",
       "12                        4.161643         8164.2  0.006560        1\n",
       "13                        3.470591         8081.9  0.047398        1\n",
       "14                        2.926191         9476.3  0.040421        1\n",
       "15                        2.984184        11073.5  0.038626        1\n",
       "16                        3.027349        11238.7  0.033618        1\n",
       "17                        3.960660        10170.4  0.023453        1\n",
       "18                        2.478777        10285.1  0.082585        1\n",
       "19                        2.366781        10904.5  0.077292        1"
      ]
     },
     "execution_count": 21,
     "metadata": {},
     "output_type": "execute_result"
    }
   ],
   "source": [
    "df2['scores']=ISF.decision_function(df2[['Avg Fees per transaction (USD)']])\n",
    "df2['anomaly']=ISF.predict(df2[['Avg Fees per transaction (USD)']])\n",
    "df2.head(20)"
   ]
  },
  {
   "cell_type": "code",
   "execution_count": 22,
   "id": "0b8520c6",
   "metadata": {
    "execution": {
     "iopub.execute_input": "2023-03-10T13:08:01.436846Z",
     "iopub.status.busy": "2023-03-10T13:08:01.435911Z",
     "iopub.status.idle": "2023-03-10T13:08:01.447837Z",
     "shell.execute_reply": "2023-03-10T13:08:01.446764Z"
    },
    "papermill": {
     "duration": 0.030473,
     "end_time": "2023-03-10T13:08:01.451361",
     "exception": false,
     "start_time": "2023-03-10T13:08:01.420888",
     "status": "completed"
    },
    "tags": []
   },
   "outputs": [
    {
     "name": "stdout",
     "output_type": "stream",
     "text": [
      "     Avg Fees per transaction (USD)  Bitcoin Price    scores  anomaly\n",
      "0                         28.276123        15156.6 -0.167245       -1\n",
      "1                         32.247758        17172.3 -0.214918       -1\n",
      "2                         30.999893        14778.5 -0.197715       -1\n",
      "3                         28.138306        13886.7 -0.166342       -1\n",
      "4                         25.830452        13697.5 -0.149452       -1\n",
      "5                         24.411259        11245.4 -0.119067       -1\n",
      "6                         18.860830        11594.9 -0.056884       -1\n",
      "7                         12.409006        11452.3 -0.049167       -1\n",
      "8                          9.772750        11467.5 -0.049785       -1\n",
      "9                          7.158893        10166.0 -0.029225       -1\n",
      "10                         9.950891         8893.2 -0.045339       -1\n",
      "11                         6.056735         6938.5 -0.005792       -1\n",
      "56                         6.741130         6765.4 -0.005663       -1\n",
      "121                        0.176749         3809.4 -0.031683       -1\n",
      "125                        0.182963         3490.2 -0.031175       -1\n",
      "132                        0.167425         3459.1 -0.040311       -1\n",
      "171                        5.731200         8558.3 -0.012240       -1\n",
      "172                        5.758380         8124.8 -0.012934       -1\n",
      "180                        6.525239        11287.8 -0.006615       -1\n",
      "289                        6.429142         9773.3 -0.005470       -1\n",
      "313                        6.063625        11096.2 -0.008053       -1\n",
      "315                        5.383754        11735.1 -0.002146       -1\n",
      "341                        6.285089        12974.6 -0.016496       -1\n",
      "343                       11.638373        13278.9 -0.049360       -1\n",
      "344                       13.153776        13797.3 -0.035983       -1\n",
      "345                       11.871891        14019.9 -0.043445       -1\n",
      "346                       11.040849        15577.9 -0.056659       -1\n",
      "352                        4.907728        19152.6 -0.002625       -1\n",
      "355                        8.121423        19433.3 -0.008976       -1\n",
      "360                       11.827978        23127.9 -0.046394       -1\n",
      "361                       11.916996        22728.5 -0.044181       -1\n",
      "362                        9.188479        23736.5 -0.041037       -1\n",
      "363                        8.071647        26261.3 -0.015381       -1\n",
      "364                        8.702158        28868.7 -0.025722       -1\n",
      "365                        8.400989        32193.3 -0.015167       -1\n",
      "366                       10.386146        33991.5 -0.043565       -1\n",
      "367                       15.160501        40599.3 -0.057270       -1\n",
      "368                       13.665818        35544.3 -0.046131       -1\n",
      "369                       16.362822        39175.7 -0.071883       -1\n",
      "370                        8.679418        35839.6 -0.025012       -1\n",
      "371                       10.423643        35476.3 -0.043565       -1\n",
      "372                        7.993262        32088.9 -0.017228       -1\n",
      "373                        7.720713        32502.1 -0.025782       -1\n",
      "374                       17.381832        34301.8 -0.060583       -1\n",
      "375                       15.566144        33515.7 -0.064925       -1\n",
      "376                       17.054290        36982.1 -0.066152       -1\n",
      "377                       11.450132        38852.9 -0.056252       -1\n",
      "378                       22.450378        44836.0 -0.105879       -1\n",
      "379                       20.294008        47168.7 -0.084986       -1\n",
      "380                       19.790817        49169.7 -0.083548       -1\n",
      "381                       25.060582        55906.6 -0.122703       -1\n",
      "382                       25.214701        54111.8 -0.122703       -1\n",
      "383                       23.286347        46928.5 -0.117759       -1\n",
      "384                       14.614040        45164.0 -0.033939       -1\n"
     ]
    }
   ],
   "source": [
    "anomaly=df2.loc[df2['anomaly']==-1]\n",
    "anomaly_index=list(anomaly.index)\n",
    "print(anomaly.head(54))"
   ]
  },
  {
   "cell_type": "code",
   "execution_count": 23,
   "id": "20e1b7f5",
   "metadata": {
    "execution": {
     "iopub.execute_input": "2023-03-10T13:08:01.482833Z",
     "iopub.status.busy": "2023-03-10T13:08:01.482520Z",
     "iopub.status.idle": "2023-03-10T13:08:01.490503Z",
     "shell.execute_reply": "2023-03-10T13:08:01.489655Z"
    },
    "papermill": {
     "duration": 0.025572,
     "end_time": "2023-03-10T13:08:01.492488",
     "exception": false,
     "start_time": "2023-03-10T13:08:01.466916",
     "status": "completed"
    },
    "tags": []
   },
   "outputs": [],
   "source": [
    "df2_no_anomaly = df2.drop(df2[df2.anomaly == -1].index)"
   ]
  },
  {
   "cell_type": "code",
   "execution_count": 24,
   "id": "f425f594",
   "metadata": {
    "execution": {
     "iopub.execute_input": "2023-03-10T13:08:01.523326Z",
     "iopub.status.busy": "2023-03-10T13:08:01.522668Z",
     "iopub.status.idle": "2023-03-10T13:08:01.534881Z",
     "shell.execute_reply": "2023-03-10T13:08:01.533878Z"
    },
    "papermill": {
     "duration": 0.030275,
     "end_time": "2023-03-10T13:08:01.537160",
     "exception": false,
     "start_time": "2023-03-10T13:08:01.506885",
     "status": "completed"
    },
    "tags": []
   },
   "outputs": [
    {
     "data": {
      "text/html": [
       "<div>\n",
       "<style scoped>\n",
       "    .dataframe tbody tr th:only-of-type {\n",
       "        vertical-align: middle;\n",
       "    }\n",
       "\n",
       "    .dataframe tbody tr th {\n",
       "        vertical-align: top;\n",
       "    }\n",
       "\n",
       "    .dataframe thead th {\n",
       "        text-align: right;\n",
       "    }\n",
       "</style>\n",
       "<table border=\"1\" class=\"dataframe\">\n",
       "  <thead>\n",
       "    <tr style=\"text-align: right;\">\n",
       "      <th></th>\n",
       "      <th>Avg Fees per transaction (USD)</th>\n",
       "      <th>Bitcoin Price</th>\n",
       "      <th>scores</th>\n",
       "      <th>anomaly</th>\n",
       "    </tr>\n",
       "  </thead>\n",
       "  <tbody>\n",
       "    <tr>\n",
       "      <th>12</th>\n",
       "      <td>4.161643</td>\n",
       "      <td>8164.2</td>\n",
       "      <td>0.006560</td>\n",
       "      <td>1</td>\n",
       "    </tr>\n",
       "    <tr>\n",
       "      <th>13</th>\n",
       "      <td>3.470591</td>\n",
       "      <td>8081.9</td>\n",
       "      <td>0.047398</td>\n",
       "      <td>1</td>\n",
       "    </tr>\n",
       "    <tr>\n",
       "      <th>14</th>\n",
       "      <td>2.926191</td>\n",
       "      <td>9476.3</td>\n",
       "      <td>0.040421</td>\n",
       "      <td>1</td>\n",
       "    </tr>\n",
       "    <tr>\n",
       "      <th>15</th>\n",
       "      <td>2.984184</td>\n",
       "      <td>11073.5</td>\n",
       "      <td>0.038626</td>\n",
       "      <td>1</td>\n",
       "    </tr>\n",
       "    <tr>\n",
       "      <th>16</th>\n",
       "      <td>3.027349</td>\n",
       "      <td>11238.7</td>\n",
       "      <td>0.033618</td>\n",
       "      <td>1</td>\n",
       "    </tr>\n",
       "  </tbody>\n",
       "</table>\n",
       "</div>"
      ],
      "text/plain": [
       "    Avg Fees per transaction (USD)  Bitcoin Price    scores  anomaly\n",
       "12                        4.161643         8164.2  0.006560        1\n",
       "13                        3.470591         8081.9  0.047398        1\n",
       "14                        2.926191         9476.3  0.040421        1\n",
       "15                        2.984184        11073.5  0.038626        1\n",
       "16                        3.027349        11238.7  0.033618        1"
      ]
     },
     "execution_count": 24,
     "metadata": {},
     "output_type": "execute_result"
    }
   ],
   "source": [
    "df2_no_anomaly.head()"
   ]
  },
  {
   "cell_type": "markdown",
   "id": "0a86a468",
   "metadata": {
    "papermill": {
     "duration": 0.014707,
     "end_time": "2023-03-10T13:08:01.567743",
     "exception": false,
     "start_time": "2023-03-10T13:08:01.553036",
     "status": "completed"
    },
    "tags": []
   },
   "source": [
    "### Applying Linear Regression after removing anomalies"
   ]
  },
  {
   "cell_type": "code",
   "execution_count": 25,
   "id": "0ad290e8",
   "metadata": {
    "execution": {
     "iopub.execute_input": "2023-03-10T13:08:01.599011Z",
     "iopub.status.busy": "2023-03-10T13:08:01.598704Z",
     "iopub.status.idle": "2023-03-10T13:08:01.608677Z",
     "shell.execute_reply": "2023-03-10T13:08:01.607139Z"
    },
    "papermill": {
     "duration": 0.028735,
     "end_time": "2023-03-10T13:08:01.611463",
     "exception": false,
     "start_time": "2023-03-10T13:08:01.582728",
     "status": "completed"
    },
    "tags": []
   },
   "outputs": [
    {
     "name": "stdout",
     "output_type": "stream",
     "text": [
      "0.129884556858485\n"
     ]
    }
   ],
   "source": [
    "y1 = np.array(df2_no_anomaly['Avg Fees per transaction (USD)']).reshape(-1,1)\n",
    "X1= np.array(df2_no_anomaly['Bitcoin Price']).reshape(-1,1)\n",
    "\n",
    "X_train, x_test, y_train , y_test = train_test_split(X1, y1, test_size=0.5)\n",
    "reg = LinearRegression()\n",
    "reg.fit(X_train, y_train)\n",
    "print(reg.score(x_test,y_test))"
   ]
  },
  {
   "cell_type": "code",
   "execution_count": 26,
   "id": "b0341278",
   "metadata": {
    "execution": {
     "iopub.execute_input": "2023-03-10T13:08:01.643624Z",
     "iopub.status.busy": "2023-03-10T13:08:01.642977Z",
     "iopub.status.idle": "2023-03-10T13:08:01.836555Z",
     "shell.execute_reply": "2023-03-10T13:08:01.835405Z"
    },
    "papermill": {
     "duration": 0.211961,
     "end_time": "2023-03-10T13:08:01.838837",
     "exception": false,
     "start_time": "2023-03-10T13:08:01.626876",
     "status": "completed"
    },
    "tags": []
   },
   "outputs": [
    {
     "data": {
      "image/png": "[encoded data removed]",
      "text/plain": [
       "<Figure size 360x216 with 1 Axes>"
      ]
     },
     "metadata": {
      "needs_background": "light"
     },
     "output_type": "display_data"
    }
   ],
   "source": [
    "y_pred = reg.predict(x_test)\n",
    "plt.scatter(x_test,y_test, color='b')\n",
    "plt.ylabel(\"AvgFees\")\n",
    "plt.xlabel(\"Bitcoin Price\")\n",
    "plt.plot(x_test,y_pred, color='k')\n",
    "\n",
    "plt.show()"
   ]
  },
  {
   "cell_type": "code",
   "execution_count": 27,
   "id": "0ad1bda2",
   "metadata": {
    "execution": {
     "iopub.execute_input": "2023-03-10T13:08:01.871120Z",
     "iopub.status.busy": "2023-03-10T13:08:01.870290Z",
     "iopub.status.idle": "2023-03-10T13:08:01.886364Z",
     "shell.execute_reply": "2023-03-10T13:08:01.884516Z"
    },
    "papermill": {
     "duration": 0.035032,
     "end_time": "2023-03-10T13:08:01.889407",
     "exception": false,
     "start_time": "2023-03-10T13:08:01.854375",
     "status": "completed"
    },
    "tags": []
   },
   "outputs": [
    {
     "name": "stdout",
     "output_type": "stream",
     "text": [
      "p values: \n",
      "1.2934363712516477e-12\n",
      "5.3499840637316206e-24\n",
      "                            OLS Regression Results                            \n",
      "==============================================================================\n",
      "Dep. Variable:                      y   R-squared:                       0.254\n",
      "Model:                            OLS   Adj. R-squared:                  0.252\n",
      "Method:                 Least Squares   F-statistic:                     118.8\n",
      "Date:                Fri, 10 Mar 2023   Prob (F-statistic):           5.35e-24\n",
      "Time:                        13:08:01   Log-Likelihood:                -528.37\n",
      "No. Observations:                 351   AIC:                             1061.\n",
      "Df Residuals:                     349   BIC:                             1068.\n",
      "Df Model:                           1                                         \n",
      "Covariance Type:            nonrobust                                         \n",
      "==============================================================================\n",
      "                 coef    std err          t      P>|t|      [0.025      0.975]\n",
      "------------------------------------------------------------------------------\n",
      "const          0.6943      0.094      7.364      0.000       0.509       0.880\n",
      "x1          8.096e-05   7.43e-06     10.898      0.000    6.63e-05    9.56e-05\n",
      "==============================================================================\n",
      "Omnibus:                       87.526   Durbin-Watson:                   0.386\n",
      "Prob(Omnibus):                  0.000   Jarque-Bera (JB):              163.523\n",
      "Skew:                           1.364   Prob(JB):                     3.10e-36\n",
      "Kurtosis:                       4.934   Cond. No.                     2.05e+04\n",
      "==============================================================================\n",
      "\n",
      "Notes:\n",
      "[1] Standard Errors assume that the covariance matrix of the errors is correctly specified.\n",
      "[2] The condition number is large, 2.05e+04. This might indicate that there are\n",
      "strong multicollinearity or other numerical problems.\n"
     ]
    }
   ],
   "source": [
    "X1 = sm.add_constant(X1)\n",
    "model = sm.OLS(y1,X1)\n",
    "results = model.fit()\n",
    "print(\"p values: \")\n",
    "for x in range(0,2):\n",
    "    print(results.pvalues[x])\n",
    "print(results.summary())"
   ]
  },
  {
   "cell_type": "markdown",
   "id": "79e374ca",
   "metadata": {
    "papermill": {
     "duration": 0.015425,
     "end_time": "2023-03-10T13:08:01.921117",
     "exception": false,
     "start_time": "2023-03-10T13:08:01.905692",
     "status": "completed"
    },
    "tags": []
   },
   "source": [
    "### The addition of the isolation forest to detect outliers had produced no improvement on the p-values or r-squared scores. In fact, the r-squared score was lower than before. The isolation forest algorithm detected well over 100 anomalies. Looking at the graph, it seems as if the forest removed anypoint that were outside the big cluster in the bottom-left corner, instead of taking in account every single data point on the graph."
   ]
  },
  {
   "cell_type": "code",
   "execution_count": 28,
   "id": "a7255eb7",
   "metadata": {
    "execution": {
     "iopub.execute_input": "2023-03-10T13:08:01.952914Z",
     "iopub.status.busy": "2023-03-10T13:08:01.952582Z",
     "iopub.status.idle": "2023-03-10T13:08:02.027267Z",
     "shell.execute_reply": "2023-03-10T13:08:02.026302Z"
    },
    "papermill": {
     "duration": 0.092902,
     "end_time": "2023-03-10T13:08:02.029433",
     "exception": false,
     "start_time": "2023-03-10T13:08:01.936531",
     "status": "completed"
    },
    "tags": []
   },
   "outputs": [
    {
     "data": {
      "text/plain": [
       "-7.28460862351457"
      ]
     },
     "execution_count": 28,
     "metadata": {},
     "output_type": "execute_result"
    }
   ],
   "source": [
    "import numpy as np\n",
    "from sklearn.linear_model import HuberRegressor\n",
    "from sklearn.datasets import make_regression\n",
    "\n",
    "rng = np.random.RandomState(0)\n",
    "\n",
    "X, y, coef = make_regression(n_samples=200, n_features=2, noise=4.0, coef=True, random_state=0)\n",
    "X[:4] = rng.uniform(10,20, (4,2))\n",
    "y[:4] = rng.uniform(10,20,4)\n",
    "\n",
    "huber = HuberRegressor().fit(X,y)\n",
    "huber.score(X,y)\n"
   ]
  },
  {
   "cell_type": "markdown",
   "id": "e5304ffb",
   "metadata": {
    "papermill": {
     "duration": 0.014831,
     "end_time": "2023-03-10T13:08:02.059652",
     "exception": false,
     "start_time": "2023-03-10T13:08:02.044821",
     "status": "completed"
    },
    "tags": []
   },
   "source": [
    "# K-Means Clustering\n",
    "\n",
    "### A type of unsupervised learning algorithm that groups data based on each point's euclidean distance to a central point (centroid)\n",
    "### It also partitions all points in the sample based on similarity (calculated by the euclidean distance)\n",
    "#### Seaborn will be used to plot the colour coded clusters \n",
    "## Method 1\n",
    "#### An elbow method will be used to help indicate how many clusters there are within the data"
   ]
  },
  {
   "cell_type": "code",
   "execution_count": 29,
   "id": "6a118fdb",
   "metadata": {
    "execution": {
     "iopub.execute_input": "2023-03-10T13:08:02.091280Z",
     "iopub.status.busy": "2023-03-10T13:08:02.090572Z",
     "iopub.status.idle": "2023-03-10T13:08:02.737286Z",
     "shell.execute_reply": "2023-03-10T13:08:02.736281Z"
    },
    "papermill": {
     "duration": 0.665418,
     "end_time": "2023-03-10T13:08:02.739957",
     "exception": false,
     "start_time": "2023-03-10T13:08:02.074539",
     "status": "completed"
    },
    "tags": []
   },
   "outputs": [
    {
     "name": "stdout",
     "output_type": "stream",
     "text": [
      "(444, 21)\n"
     ]
    },
    {
     "data": {
      "image/png": "[encoded data removed]",
      "text/plain": [
       "<Figure size 360x216 with 1 Axes>"
      ]
     },
     "metadata": {
      "needs_background": "light"
     },
     "output_type": "display_data"
    }
   ],
   "source": [
    "from sklearn.cluster import KMeans\n",
    "from sklearn import metrics\n",
    "from sklearn.preprocessing import StandardScaler\n",
    "import random\n",
    "import seaborn as sns\n",
    "\n",
    "df = merged_df\n",
    "print(df.shape)\n",
    "df = df[['Avg Fees per transaction (USD)', 'Bitcoin Price']]\n",
    "\n",
    "wcss = []\n",
    "\n",
    "for i in range(1, 11):\n",
    "    clustering = KMeans(n_clusters=i, init='k-means++', random_state=42)\n",
    "    clustering.fit(df)\n",
    "    wcss.append(clustering.inertia_)\n",
    "    \n",
    "ks = [1, 2, 3, 4, 5, 6, 7, 8, 9, 10]\n",
    "sns.lineplot(x = ks, y = wcss);\n",
    "\n"
   ]
  },
  {
   "cell_type": "markdown",
   "id": "43216251",
   "metadata": {
    "papermill": {
     "duration": 0.015565,
     "end_time": "2023-03-10T13:08:02.771405",
     "exception": false,
     "start_time": "2023-03-10T13:08:02.755840",
     "status": "completed"
    },
    "tags": []
   },
   "source": [
    "##### The above plot shows a line graph that resembles an 'elbow' , that bends first at 2 then bends once again at 3. Indictating that there should be either 2 or 3 clusters in the data "
   ]
  },
  {
   "cell_type": "code",
   "execution_count": 30,
   "id": "0922cf5b",
   "metadata": {
    "execution": {
     "iopub.execute_input": "2023-03-10T13:08:02.803525Z",
     "iopub.status.busy": "2023-03-10T13:08:02.803193Z",
     "iopub.status.idle": "2023-03-10T13:08:02.851171Z",
     "shell.execute_reply": "2023-03-10T13:08:02.850057Z"
    },
    "papermill": {
     "duration": 0.067135,
     "end_time": "2023-03-10T13:08:02.853812",
     "exception": false,
     "start_time": "2023-03-10T13:08:02.786677",
     "status": "completed"
    },
    "tags": []
   },
   "outputs": [],
   "source": [
    "wcss_3 = []\n",
    "\n",
    "for i in range(1, 4):\n",
    "    clustering = KMeans(n_clusters=i, init='k-means++', random_state=42)\n",
    "    clustering.fit(df)\n",
    "    wcss_3.append(clustering.inertia_)\n",
    "    \n",
    "\n"
   ]
  },
  {
   "cell_type": "code",
   "execution_count": 31,
   "id": "ad030419",
   "metadata": {
    "execution": {
     "iopub.execute_input": "2023-03-10T13:08:02.888721Z",
     "iopub.status.busy": "2023-03-10T13:08:02.888395Z",
     "iopub.status.idle": "2023-03-10T13:08:03.369440Z",
     "shell.execute_reply": "2023-03-10T13:08:03.368514Z"
    },
    "papermill": {
     "duration": 0.499448,
     "end_time": "2023-03-10T13:08:03.371580",
     "exception": false,
     "start_time": "2023-03-10T13:08:02.872132",
     "status": "completed"
    },
    "tags": []
   },
   "outputs": [
    {
     "data": {
      "image/png": "[encoded data removed]",
      "text/plain": [
       "<Figure size 1080x360 with 2 Axes>"
      ]
     },
     "metadata": {
      "needs_background": "light"
     },
     "output_type": "display_data"
    }
   ],
   "source": [
    "fig, axes = plt.subplots(nrows=1, ncols=2, figsize=(15,5))\n",
    "sns.scatterplot(ax=axes[0], data=df, y='Avg Fees per transaction (USD)', x='Bitcoin Price').set_title('Without clustering')\n",
    "sns.scatterplot(ax=axes[1], data=df, y='Avg Fees per transaction (USD)', x='Bitcoin Price', hue=clustering.labels_).set_title('Using the elbow method at 3 clusters');"
   ]
  },
  {
   "cell_type": "markdown",
   "id": "d44f7b02",
   "metadata": {
    "papermill": {
     "duration": 0.016263,
     "end_time": "2023-03-10T13:08:03.404121",
     "exception": false,
     "start_time": "2023-03-10T13:08:03.387858",
     "status": "completed"
    },
    "tags": []
   },
   "source": [
    "##### The 2nd plot shows the locations of the three clusters\n",
    "\n",
    "##### The 'legend' shows the colours of the three different clusters. "
   ]
  },
  {
   "cell_type": "code",
   "execution_count": 32,
   "id": "0aee2186",
   "metadata": {
    "execution": {
     "iopub.execute_input": "2023-03-10T13:08:03.438469Z",
     "iopub.status.busy": "2023-03-10T13:08:03.437815Z",
     "iopub.status.idle": "2023-03-10T13:08:04.183068Z",
     "shell.execute_reply": "2023-03-10T13:08:04.182081Z"
    },
    "papermill": {
     "duration": 0.764937,
     "end_time": "2023-03-10T13:08:04.185444",
     "exception": false,
     "start_time": "2023-03-10T13:08:03.420507",
     "status": "completed"
    },
    "tags": []
   },
   "outputs": [
    {
     "data": {
      "image/png": "[encoded data removed]",
      "text/plain": [
       "<Figure size 1080x360 with 3 Axes>"
      ]
     },
     "metadata": {
      "needs_background": "light"
     },
     "output_type": "display_data"
    }
   ],
   "source": [
    "df_A = df2_no_anomaly[['Avg Fees per transaction (USD)', 'Bitcoin Price']]\n",
    "x_std = StandardScaler().fit_transform(df_A)\n",
    "\n",
    "wcss_A = []\n",
    "\n",
    "for i in range(1, 4):\n",
    "    A_clustering = KMeans(n_clusters=i, init='k-means++', random_state=42)\n",
    "    A_clustering.fit(x_std)\n",
    "    wcss_A.append(A_clustering.inertia_)\n",
    "\n",
    "centroids = A_clustering.cluster_centers_\n",
    "\n",
    "\"\"\"plt.scatter(centroids[:, 0], centroids[:, 1], marker='*', s=300,\n",
    "            c='r', label='centroid')\"\"\"\n",
    "\n",
    "fig, axes = plt.subplots(nrows=1, ncols=3, figsize=(15,5))\n",
    "sns.scatterplot(ax=axes[0], data=df, y='Avg Fees per transaction (USD)', x='Bitcoin Price').set_title('Without clustering')\n",
    "sns.scatterplot(ax=axes[1], data=df, y='Avg Fees per transaction (USD)', x='Bitcoin Price', hue=clustering.labels_).set_title('Using the elbow method at 3 clusters');\n",
    "sns.scatterplot(ax=axes[2], data=df_A, y='Avg Fees per transaction (USD)', x='Bitcoin Price', hue=A_clustering.labels_).set_title('No Anomalies');\n"
   ]
  },
  {
   "cell_type": "markdown",
   "id": "ef3427b0",
   "metadata": {
    "papermill": {
     "duration": 0.016522,
     "end_time": "2023-03-10T13:08:04.219281",
     "exception": false,
     "start_time": "2023-03-10T13:08:04.202759",
     "status": "completed"
    },
    "tags": []
   },
   "source": [
    "### A 3-D plot showing the K-means clustering with the added axis 'year' to show the progression over time"
   ]
  },
  {
   "cell_type": "code",
   "execution_count": 33,
   "id": "cc3678a8",
   "metadata": {
    "execution": {
     "iopub.execute_input": "2023-03-10T13:08:04.255933Z",
     "iopub.status.busy": "2023-03-10T13:08:04.255544Z",
     "iopub.status.idle": "2023-03-10T13:08:04.492419Z",
     "shell.execute_reply": "2023-03-10T13:08:04.491508Z"
    },
    "papermill": {
     "duration": 0.257676,
     "end_time": "2023-03-10T13:08:04.494485",
     "exception": false,
     "start_time": "2023-03-10T13:08:04.236809",
     "status": "completed"
    },
    "tags": []
   },
   "outputs": [
    {
     "data": {
      "text/plain": [
       "Text(0.5, 0, 'year')"
      ]
     },
     "execution_count": 33,
     "metadata": {},
     "output_type": "execute_result"
    },
    {
     "data": {
      "image/png": "[encoded data removed]",
      "text/plain": [
       "<Figure size 360x216 with 1 Axes>"
      ]
     },
     "metadata": {
      "needs_background": "light"
     },
     "output_type": "display_data"
    }
   ],
   "source": [
    "ax = plt.axes(projection='3d')\n",
    "xdata = df['Bitcoin Price']\n",
    "ydata = df['Avg Fees per transaction (USD)']\n",
    "# 5 * np.random.random(444)\n",
    "zdata = merged_df['year']\n",
    "ax.scatter3D(xdata, ydata, zdata, cmap='Greens')\n",
    "\n",
    "ax.set_xlabel('Price')\n",
    "ax.set_ylabel('Fees paid')\n",
    "ax.set_zlabel('year')"
   ]
  },
  {
   "cell_type": "code",
   "execution_count": null,
   "id": "0af2e6ea",
   "metadata": {
    "papermill": {
     "duration": 0.017003,
     "end_time": "2023-03-10T13:08:04.529500",
     "exception": false,
     "start_time": "2023-03-10T13:08:04.512497",
     "status": "completed"
    },
    "tags": []
   },
   "outputs": [],
   "source": []
  },
  {
   "cell_type": "markdown",
   "id": "9e62c470",
   "metadata": {
    "papermill": {
     "duration": 0.017263,
     "end_time": "2023-03-10T13:08:04.564093",
     "exception": false,
     "start_time": "2023-03-10T13:08:04.546830",
     "status": "completed"
    },
    "tags": []
   },
   "source": [
    "## Method 2 Silhouette Analysis"
   ]
  },
  {
   "cell_type": "code",
   "execution_count": 34,
   "id": "78425199",
   "metadata": {
    "execution": {
     "iopub.execute_input": "2023-03-10T13:08:04.599934Z",
     "iopub.status.busy": "2023-03-10T13:08:04.599258Z",
     "iopub.status.idle": "2023-03-10T13:08:04.627307Z",
     "shell.execute_reply": "2023-03-10T13:08:04.625505Z"
    },
    "papermill": {
     "duration": 0.049249,
     "end_time": "2023-03-10T13:08:04.630307",
     "exception": false,
     "start_time": "2023-03-10T13:08:04.581058",
     "status": "completed"
    },
    "tags": []
   },
   "outputs": [
    {
     "name": "stdout",
     "output_type": "stream",
     "text": [
      "Silhouette score: 0.823319\n",
      "Silhouette score (no anomalies): 0.339159\n"
     ]
    }
   ],
   "source": [
    "from sklearn.metrics import silhouette_score\n",
    "score = silhouette_score(df, clustering.labels_, metric='euclidean')\n",
    "AnomalyScore = silhouette_score(df_A, A_clustering.labels_, metric='euclidean')\n",
    "print(\"Silhouette score: %3f\" % score )\n",
    "print(\"Silhouette score (no anomalies): %3f\" % AnomalyScore)\n"
   ]
  },
  {
   "cell_type": "markdown",
   "id": "80b77dd2",
   "metadata": {
    "papermill": {
     "duration": 0.048716,
     "end_time": "2023-03-10T13:08:04.727188",
     "exception": false,
     "start_time": "2023-03-10T13:08:04.678472",
     "status": "completed"
    },
    "tags": []
   },
   "source": [
    "### Analyzing the Silhouette Score\n",
    "- 1 : Samples are close to each other in their own clusters & seperate clusters are far away from each other\n",
    "- 0 : Clusters are indifferent. Clusters are **overlapping** and in some cases, the samples are very close to the boundary of neighbouring clusters\n",
    "- -1 : Samples might have been assigned to the wrong clusters\n",
    "\n",
    "\n",
    "\n",
    "##### A silhouette score of 0.79 shows that the 3 clusters are of a significant distance away. Only a few samples are very close to each other.  \n",
    "\n",
    "##### What score will be calculated with 2 clusters or 4 clusters?\n"
   ]
  },
  {
   "cell_type": "code",
   "execution_count": 35,
   "id": "48af2d93",
   "metadata": {
    "execution": {
     "iopub.execute_input": "2023-03-10T13:08:04.783257Z",
     "iopub.status.busy": "2023-03-10T13:08:04.782876Z",
     "iopub.status.idle": "2023-03-10T13:08:05.715541Z",
     "shell.execute_reply": "2023-03-10T13:08:05.714560Z"
    },
    "papermill": {
     "duration": 0.956389,
     "end_time": "2023-03-10T13:08:05.717875",
     "exception": false,
     "start_time": "2023-03-10T13:08:04.761486",
     "status": "completed"
    },
    "tags": []
   },
   "outputs": [
    {
     "data": {
      "image/png": "[encoded data removed]",
      "text/plain": [
       "<Figure size 1080x576 with 4 Axes>"
      ]
     },
     "metadata": {},
     "output_type": "display_data"
    }
   ],
   "source": [
    "from yellowbrick.cluster import SilhouetteVisualizer\n",
    " \n",
    "fig, ax = plt.subplots(2, 2, figsize=(15,8))\n",
    "for i in [2, 3, 4]:\n",
    "    '''\n",
    "    Create KMeans instance for different number of clusters\n",
    "    '''\n",
    "    km = KMeans(n_clusters=i, init='k-means++', n_init=10, max_iter=100, random_state=42)\n",
    "    q, mod = divmod(i, 2)\n",
    "    '''\n",
    "    Create SilhouetteVisualizer instance with KMeans instance\n",
    "    Fit the visualizer\n",
    "    '''\n",
    "    visualizer = SilhouetteVisualizer(km, colors='yellowbrick', ax=ax[q-1][mod])\n",
    "    visualizer.fit(df) "
   ]
  },
  {
   "cell_type": "markdown",
   "id": "dfaca973",
   "metadata": {
    "papermill": {
     "duration": 0.017298,
     "end_time": "2023-03-10T13:08:05.753106",
     "exception": false,
     "start_time": "2023-03-10T13:08:05.735808",
     "status": "completed"
    },
    "tags": []
   },
   "source": [
    "##### A Silhouette visualizer with 2, 3 and 4 clusters shown \n",
    "\n",
    "##### Dotted red line = Average Silhouette score\n",
    "\n",
    "### With 4 clusters , the average silhouette score falls lower than the previous 0.79. This means that adding an additional cluster could make some samples overlap with each other and we move further away from the optimal number of clusters\n",
    "\n",
    "### The highest average silhouette score is shown on the graph with only 2 clusters at >0.8. This visulaizer shows me that the optimum number of clusters in this data package is 2.\n",
    "\n",
    "### Overall, the silhouette analysis shows that there is one dominating cluster\n",
    "\n",
    "[1] : https://vitalflux.com/kmeans-silhouette-score-explained-with-python-example/#:~:text=Silhouette%20score%20is%20used%20to,each%20sample%20of%20different%20clusters."
   ]
  }
 ],
 "metadata": {
  "kernelspec": {
   "display_name": "Python 3",
   "language": "python",
   "name": "python3"
  },
  "language_info": {
   "codemirror_mode": {
    "name": "ipython",
    "version": 3
   },
   "file_extension": ".py",
   "mimetype": "text/x-python",
   "name": "python",
   "nbconvert_exporter": "python",
   "pygments_lexer": "ipython3",
   "version": "3.7.12"
  },
  "papermill": {
   "default_parameters": {},
   "duration": 18.320832,
   "end_time": "2023-03-10T13:08:06.492244",
   "environment_variables": {},
   "exception": null,
   "input_path": "__notebook__.ipynb",
   "output_path": "__notebook__.ipynb",
   "parameters": {},
   "start_time": "2023-03-10T13:07:48.171412",
   "version": "2.3.4"
  }
 },
 "nbformat": 4,
 "nbformat_minor": 5
}
